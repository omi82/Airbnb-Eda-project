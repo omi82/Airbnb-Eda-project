{
  "nbformat": 4,
  "nbformat_minor": 0,
  "metadata": {
    "kernelspec": {
      "display_name": "Python 3",
      "language": "python",
      "name": "python3"
    },
    "language_info": {
      "codemirror_mode": {
        "name": "ipython",
        "version": 3
      },
      "file_extension": ".py",
      "mimetype": "text/x-python",
      "name": "python",
      "nbconvert_exporter": "python",
      "pygments_lexer": "ipython3",
      "version": "3.6.6"
    },
    "colab": {
      "provenance": []
    }
  },
  "cells": [
    {
      "cell_type": "markdown",
      "source": [
        "# **Project Name** -  AirBnb Bookings Analysis"
      ],
      "metadata": {
        "id": "AOyuQZi_v2IS"
      }
    },
    {
      "cell_type": "markdown",
      "source": [
        "**Project Type** - EDA\n",
        "\n",
        "**Contribution** - Team\n",
        "\n",
        "**Team Member 1** - **Hitesh Patil**\n",
        "\n",
        "**Team Member 2** - **Govind Chaudhary**\n",
        "\n",
        "**Team Member 3** - **Omendra Puri**"
      ],
      "metadata": {
        "id": "tzF6I731wWPR"
      }
    },
    {
      "cell_type": "markdown",
      "source": [
        "# **Project Summary  -**"
      ],
      "metadata": {
        "id": "RtMV8VaYxgcx"
      }
    },
    {
      "cell_type": "markdown",
      "source": [
        "Airbnb Bookings Analysis project was done by me. In this project, we got single csv files as input. The CSV files are Airbnb NYC 2019.csv, this file consists of around 50000 rows and 16 columns.\n",
        "\n",
        "we imported all required library then we have a dataset from New York-based Airbnb. NY is one of the most expensive places to live in the United States. We want to do an in-depth analysis of one of these populous cities in the world. Our dataset contains many features, locations with host id, pricing, hostnames, room types, and availability throughout the season. as the data set have a review column by using that column we figure out Top neighbourhood_group as per the review. In given data set there is last_review column which in date form but data type string. with the help of datetime librarly we extract year from give data set. after that we add new coloumn which is year and extracted year data assign to year column. now we have new year column with the help of that column. we extracted year wise data along reviews. From these characteristics, we extract information like the Most booked neighbourhood_group by using the count function. then we extract the minimum price of the respective room type in their neighbourhood_group. also, we extract information total number of different room types like Private rooms, Entire homes/apt & Shared rooms available in neighbourhood_group. we also fetch information As per selected area, midtown & room type with the budget. we also visualize all the above data in different like bar charts, pie, lines, box plots, and map chart forms by using matplotlib and seaborn Library.\n",
        "\n",
        "with the same we also tried to extract information like the most expensive places to live in New York, the location actually varies by occupancy, the type of room people tend to select, is there a specific season for travelers, or an area where we can track spikes in property prices or occupancy rates, and more. We've been doing data processing, zeroing, and creating new features since the last review date. In addition, we plotted the location data and distributed our numerical features, and perform univariate and bivariate analyses with multiple dependencies. As provided data set contains latitude & longitude by using these values we plot the map as per the given latitude & longitude values. but we can conclude that,\n",
        "\n",
        "\n",
        "\n",
        "*   Manhattan and Brooklyn are NY's most expensive neighborhoods.\n",
        "*   Manhattan has given more business in terms of revenue because they have booked the maximum no of entire homes/apt and private rooms.\n",
        "*   We should work to find a way to get more business from Brooklyn since they have very less bookings compared with other groups.\n",
        "*   Manhattan is the busiest neighborhood group than others ie, Brooklyn, Queens, Bronx, and Staten Island.\n",
        "*   As on 2013 there are only 48 reviews, as year changes number of reviews rapidly increasing on 2019 it will became total 25209 reviews\n",
        "\n",
        "\n",
        "\n",
        "\n",
        "\n",
        "\n",
        "\n",
        "1.   Private room = 629\n",
        "2.   Entire home/apt = 488\n",
        "3.   Shared room = 454"
      ],
      "metadata": {
        "id": "CWtyvcq6yfI6"
      }
    },
    {
      "cell_type": "markdown",
      "source": [
        "# **Problem Statement**"
      ],
      "metadata": {
        "id": "qdvSFl3k28Eg"
      }
    },
    {
      "cell_type": "markdown",
      "metadata": {
        "id": "Y06xIdG26kRF"
      },
      "source": [
        "## <b> Since 2008, guests and hosts have used Airbnb to expand on traveling possibilities and present a more unique, personalized way of experiencing the world. Today, Airbnb became one of a kind service that is used and recognized by the whole world. Data analysis on millions of listings provided through Airbnb is a crucial factor for the company. These millions of listings generate a lot of data - data that can be analyzed and used for security, business decisions, understanding of customers' and providers' (hosts) behavior and performance on the platform, guiding marketing initiatives, implementation of innovative additional services and much more. </b>\n",
        "\n",
        "## <b>This dataset has around 49,000 observations in it with 16 columns and it is a mix between categorical and numeric values. </b>\n",
        "\n",
        "## <b> Explore and analyze the data to discover key understandings"
      ]
    },
    {
      "cell_type": "markdown",
      "source": [
        "### **Define Your Besiness Objective?**\n"
      ],
      "metadata": {
        "id": "lsVJFxSg7fu4"
      }
    },
    {
      "cell_type": "markdown",
      "source": [
        "*   How grow AirBnb business.\n",
        "*   In which area the performance of AirBnb is not good and how to increase business in that area."
      ],
      "metadata": {
        "id": "prZ4d3T-8Ikd"
      }
    },
    {
      "cell_type": "markdown",
      "source": [
        "# **General Guidelines : -**"
      ],
      "metadata": {
        "id": "dNUyAw0W8dKL"
      }
    },
    {
      "cell_type": "markdown",
      "source": [
        "1.   Well-structured, formatted, and commented code is required.\n",
        "2.   Exception Handling, Production Grade Code & Deployment Ready Code will be a plus. Those students will be awarded some additional credits.\n",
        "     \n",
        "     The additional credits will have advantages over other students during Star Student selection.\n",
        "       \n",
        "             [ Note: - Deployment Ready Code is defined as, the whole .ipynb notebook should be executable in one go\n",
        "                       without a single error logged. ]\n",
        "\n",
        "3.   Each and every logic should have proper comments.\n",
        "4. You may add as many number of charts you want. Make Sure for each and every chart the following format should be answered.\n",
        "        \n",
        "\n",
        "```\n",
        "# Chart visualization code\n",
        "```\n",
        "            \n",
        "\n",
        "*   Why did you pick the specific chart?\n",
        "*   What is/are the insight(s) found from the chart?\n",
        "* Will the gained insights help creating a positive business impact?\n",
        "Are there any insights that lead to negative growth? Justify with specific reason.\n",
        "\n",
        "5. You have to create at least 20 logical & meaningful charts having important insights.\n",
        "\n",
        "\n",
        "[ Hints : - Do the Vizualization in  a structured way while following \"UBM\" Rule.\n",
        "\n",
        "U - Univariate Analysis,\n",
        "\n",
        "B - Bivariate Analysis (Numerical - Categorical, Numerical - Numerical, Categorical - Categorical)\n",
        "\n",
        "M - Multivariate Analysis\n",
        " ]\n",
        "\n",
        "\n",
        "\n"
      ],
      "metadata": {
        "id": "x6GkcpTL8ZZd"
      }
    },
    {
      "cell_type": "markdown",
      "source": [
        "# ***Let's Begin !***"
      ],
      "metadata": {
        "id": "COFPRHcM8zev"
      }
    },
    {
      "cell_type": "markdown",
      "source": [
        "# **1. Know Your Data**"
      ],
      "metadata": {
        "id": "BgfgT9na89As"
      }
    },
    {
      "cell_type": "markdown",
      "metadata": {
        "id": "wWv0hHb2VCbA"
      },
      "source": [
        "####Importing Libraries"
      ]
    },
    {
      "cell_type": "code",
      "metadata": {
        "id": "dByMsuzT8Tnw"
      },
      "source": [
        "# Import Libraries\n",
        "import pandas as pd\n",
        "import numpy as np\n",
        "import seaborn as sns\n",
        "import matplotlib.pyplot as plt\n",
        "%matplotlib inline\n",
        "import plotly.express as px\n",
        "import pandas as pd\n",
        "from datetime import datetime\n",
        "from datetime import date\n"
      ],
      "execution_count": null,
      "outputs": []
    },
    {
      "cell_type": "code",
      "metadata": {
        "colab": {
          "base_uri": "https://localhost:8080/",
          "height": 307
        },
        "id": "lDB7Bd2nkkGM",
        "outputId": "d28f76cc-dcc3-4b61-c5cc-0eb4c54211b3"
      },
      "source": [
        "%lsmagic"
      ],
      "execution_count": null,
      "outputs": [
        {
          "output_type": "execute_result",
          "data": {
            "text/plain": [
              "Available line magics:\n",
              "%alias  %alias_magic  %autoawait  %autocall  %automagic  %autosave  %bookmark  %cat  %cd  %clear  %colors  %conda  %config  %connect_info  %cp  %debug  %dhist  %dirs  %doctest_mode  %ed  %edit  %env  %gui  %hist  %history  %killbgscripts  %ldir  %less  %lf  %lk  %ll  %load  %load_ext  %loadpy  %logoff  %logon  %logstart  %logstate  %logstop  %ls  %lsmagic  %lx  %macro  %magic  %man  %matplotlib  %mkdir  %more  %mv  %notebook  %page  %pastebin  %pdb  %pdef  %pdoc  %pfile  %pinfo  %pinfo2  %pip  %popd  %pprint  %precision  %prun  %psearch  %psource  %pushd  %pwd  %pycat  %pylab  %qtconsole  %quickref  %recall  %rehashx  %reload_ext  %rep  %rerun  %reset  %reset_selective  %rm  %rmdir  %run  %save  %sc  %set_env  %shell  %store  %sx  %system  %tb  %tensorflow_version  %time  %timeit  %unalias  %unload_ext  %who  %who_ls  %whos  %xdel  %xmode\n",
              "\n",
              "Available cell magics:\n",
              "%%!  %%HTML  %%SVG  %%bash  %%bigquery  %%capture  %%debug  %%file  %%html  %%javascript  %%js  %%latex  %%markdown  %%perl  %%prun  %%pypy  %%python  %%python2  %%python3  %%ruby  %%script  %%sh  %%shell  %%svg  %%sx  %%system  %%time  %%timeit  %%writefile\n",
              "\n",
              "Automagic is ON, % prefix IS NOT needed for line magics."
            ],
            "application/json": {
              "line": {
                "automagic": "AutoMagics",
                "autocall": "AutoMagics",
                "alias_magic": "BasicMagics",
                "lsmagic": "BasicMagics",
                "magic": "BasicMagics",
                "page": "BasicMagics",
                "pprint": "BasicMagics",
                "colors": "BasicMagics",
                "xmode": "BasicMagics",
                "quickref": "BasicMagics",
                "doctest_mode": "BasicMagics",
                "gui": "BasicMagics",
                "precision": "BasicMagics",
                "notebook": "BasicMagics",
                "save": "CodeMagics",
                "pastebin": "CodeMagics",
                "loadpy": "CodeMagics",
                "load": "CodeMagics",
                "edit": "KernelMagics",
                "config": "ConfigMagics",
                "prun": "ExecutionMagics",
                "pdb": "ExecutionMagics",
                "debug": "ExecutionMagics",
                "tb": "ExecutionMagics",
                "run": "ExecutionMagics",
                "timeit": "ExecutionMagics",
                "time": "ExecutionMagics",
                "macro": "ExecutionMagics",
                "load_ext": "ExtensionMagics",
                "unload_ext": "ExtensionMagics",
                "reload_ext": "ExtensionMagics",
                "history": "HistoryMagics",
                "recall": "HistoryMagics",
                "rerun": "HistoryMagics",
                "logstart": "LoggingMagics",
                "logstop": "LoggingMagics",
                "logoff": "LoggingMagics",
                "logon": "LoggingMagics",
                "logstate": "LoggingMagics",
                "pinfo": "NamespaceMagics",
                "pinfo2": "NamespaceMagics",
                "pdef": "NamespaceMagics",
                "pdoc": "NamespaceMagics",
                "psource": "NamespaceMagics",
                "pfile": "NamespaceMagics",
                "psearch": "NamespaceMagics",
                "who_ls": "NamespaceMagics",
                "who": "NamespaceMagics",
                "whos": "NamespaceMagics",
                "reset": "NamespaceMagics",
                "reset_selective": "NamespaceMagics",
                "xdel": "NamespaceMagics",
                "alias": "OSMagics",
                "unalias": "OSMagics",
                "rehashx": "OSMagics",
                "pwd": "OSMagics",
                "cd": "OSMagics",
                "env": "OSMagics",
                "set_env": "OSMagics",
                "pushd": "OSMagics",
                "popd": "OSMagics",
                "dirs": "OSMagics",
                "dhist": "OSMagics",
                "sc": "OSMagics",
                "sx": "OSMagics",
                "system": "OSMagics",
                "bookmark": "OSMagics",
                "pycat": "OSMagics",
                "pip": "Other",
                "conda": "PackagingMagics",
                "matplotlib": "PylabMagics",
                "pylab": "PylabMagics",
                "killbgscripts": "ScriptMagics",
                "autoawait": "AsyncMagics",
                "ed": "Other",
                "hist": "Other",
                "rep": "Other",
                "clear": "KernelMagics",
                "less": "KernelMagics",
                "more": "KernelMagics",
                "man": "KernelMagics",
                "connect_info": "KernelMagics",
                "qtconsole": "KernelMagics",
                "autosave": "KernelMagics",
                "mkdir": "Other",
                "rmdir": "Other",
                "mv": "Other",
                "rm": "Other",
                "cp": "Other",
                "cat": "Other",
                "ls": "Other",
                "ll": "Other",
                "lf": "Other",
                "lk": "Other",
                "ldir": "Other",
                "lx": "Other",
                "store": "StoreMagics",
                "shell": "Other",
                "tensorflow_version": "Other"
              },
              "cell": {
                "js": "DisplayMagics",
                "javascript": "DisplayMagics",
                "latex": "DisplayMagics",
                "svg": "DisplayMagics",
                "html": "DisplayMagics",
                "markdown": "DisplayMagics",
                "prun": "ExecutionMagics",
                "debug": "ExecutionMagics",
                "timeit": "ExecutionMagics",
                "time": "ExecutionMagics",
                "capture": "ExecutionMagics",
                "sx": "OSMagics",
                "system": "OSMagics",
                "!": "OSMagics",
                "writefile": "OSMagics",
                "script": "ScriptMagics",
                "sh": "Other",
                "bash": "Other",
                "perl": "Other",
                "ruby": "Other",
                "python": "Other",
                "python2": "Other",
                "python3": "Other",
                "pypy": "Other",
                "SVG": "Other",
                "HTML": "Other",
                "file": "Other",
                "bigquery": "Other",
                "shell": "Other"
              }
            }
          },
          "metadata": {},
          "execution_count": 2
        }
      ]
    },
    {
      "cell_type": "markdown",
      "source": [
        "##**` Loading Dataset`**"
      ],
      "metadata": {
        "id": "K45SYPLx9vZe"
      }
    },
    {
      "cell_type": "code",
      "source": [
        "#load dataset\n",
        "file_path= '/content/drive/MyDrive/Colab Notebooks/Airbnb NYC 2019.csv'\n",
        "df= pd.read_csv(file_path)"
      ],
      "metadata": {
        "id": "HJx3yPOIifsk"
      },
      "execution_count": null,
      "outputs": []
    },
    {
      "cell_type": "code",
      "source": [
        "from google.colab import drive\n",
        "drive.mount('/content/drive')"
      ],
      "metadata": {
        "colab": {
          "base_uri": "https://localhost:8080/"
        },
        "id": "w4TWOwmwiu0W",
        "outputId": "f428b812-794c-422f-998b-61338c725b7d"
      },
      "execution_count": null,
      "outputs": [
        {
          "output_type": "stream",
          "name": "stdout",
          "text": [
            "Drive already mounted at /content/drive; to attempt to forcibly remount, call drive.mount(\"/content/drive\", force_remount=True).\n"
          ]
        }
      ]
    },
    {
      "cell_type": "markdown",
      "source": [
        "###**`Dataset First View`**"
      ],
      "metadata": {
        "id": "Cwmo_i3e-M2u"
      }
    },
    {
      "cell_type": "code",
      "metadata": {
        "colab": {
          "base_uri": "https://localhost:8080/",
          "height": 364
        },
        "id": "zWDlGrEEl7XW",
        "outputId": "88773333-df1f-42f7-a4a2-519f1f05dfad"
      },
      "source": [
        "df.describe()"
      ],
      "execution_count": null,
      "outputs": [
        {
          "output_type": "execute_result",
          "data": {
            "text/plain": [
              "                 id       host_id      latitude     longitude         price  \\\n",
              "count  4.889500e+04  4.889500e+04  48895.000000  48895.000000  48895.000000   \n",
              "mean   1.901714e+07  6.762001e+07     40.728949    -73.952170    152.720687   \n",
              "std    1.098311e+07  7.861097e+07      0.054530      0.046157    240.154170   \n",
              "min    2.539000e+03  2.438000e+03     40.499790    -74.244420      0.000000   \n",
              "25%    9.471945e+06  7.822033e+06     40.690100    -73.983070     69.000000   \n",
              "50%    1.967728e+07  3.079382e+07     40.723070    -73.955680    106.000000   \n",
              "75%    2.915218e+07  1.074344e+08     40.763115    -73.936275    175.000000   \n",
              "max    3.648724e+07  2.743213e+08     40.913060    -73.712990  10000.000000   \n",
              "\n",
              "       minimum_nights  number_of_reviews  reviews_per_month  \\\n",
              "count    48895.000000       48895.000000       38843.000000   \n",
              "mean         7.029962          23.274466           1.373221   \n",
              "std         20.510550          44.550582           1.680442   \n",
              "min          1.000000           0.000000           0.010000   \n",
              "25%          1.000000           1.000000           0.190000   \n",
              "50%          3.000000           5.000000           0.720000   \n",
              "75%          5.000000          24.000000           2.020000   \n",
              "max       1250.000000         629.000000          58.500000   \n",
              "\n",
              "       calculated_host_listings_count  availability_365  \n",
              "count                    48895.000000      48895.000000  \n",
              "mean                         7.143982        112.781327  \n",
              "std                         32.952519        131.622289  \n",
              "min                          1.000000          0.000000  \n",
              "25%                          1.000000          0.000000  \n",
              "50%                          1.000000         45.000000  \n",
              "75%                          2.000000        227.000000  \n",
              "max                        327.000000        365.000000  "
            ],
            "text/html": [
              "\n",
              "  <div id=\"df-5f91595d-16bd-4713-a74d-1f3e2fbeea5b\">\n",
              "    <div class=\"colab-df-container\">\n",
              "      <div>\n",
              "<style scoped>\n",
              "    .dataframe tbody tr th:only-of-type {\n",
              "        vertical-align: middle;\n",
              "    }\n",
              "\n",
              "    .dataframe tbody tr th {\n",
              "        vertical-align: top;\n",
              "    }\n",
              "\n",
              "    .dataframe thead th {\n",
              "        text-align: right;\n",
              "    }\n",
              "</style>\n",
              "<table border=\"1\" class=\"dataframe\">\n",
              "  <thead>\n",
              "    <tr style=\"text-align: right;\">\n",
              "      <th></th>\n",
              "      <th>id</th>\n",
              "      <th>host_id</th>\n",
              "      <th>latitude</th>\n",
              "      <th>longitude</th>\n",
              "      <th>price</th>\n",
              "      <th>minimum_nights</th>\n",
              "      <th>number_of_reviews</th>\n",
              "      <th>reviews_per_month</th>\n",
              "      <th>calculated_host_listings_count</th>\n",
              "      <th>availability_365</th>\n",
              "    </tr>\n",
              "  </thead>\n",
              "  <tbody>\n",
              "    <tr>\n",
              "      <th>count</th>\n",
              "      <td>4.889500e+04</td>\n",
              "      <td>4.889500e+04</td>\n",
              "      <td>48895.000000</td>\n",
              "      <td>48895.000000</td>\n",
              "      <td>48895.000000</td>\n",
              "      <td>48895.000000</td>\n",
              "      <td>48895.000000</td>\n",
              "      <td>38843.000000</td>\n",
              "      <td>48895.000000</td>\n",
              "      <td>48895.000000</td>\n",
              "    </tr>\n",
              "    <tr>\n",
              "      <th>mean</th>\n",
              "      <td>1.901714e+07</td>\n",
              "      <td>6.762001e+07</td>\n",
              "      <td>40.728949</td>\n",
              "      <td>-73.952170</td>\n",
              "      <td>152.720687</td>\n",
              "      <td>7.029962</td>\n",
              "      <td>23.274466</td>\n",
              "      <td>1.373221</td>\n",
              "      <td>7.143982</td>\n",
              "      <td>112.781327</td>\n",
              "    </tr>\n",
              "    <tr>\n",
              "      <th>std</th>\n",
              "      <td>1.098311e+07</td>\n",
              "      <td>7.861097e+07</td>\n",
              "      <td>0.054530</td>\n",
              "      <td>0.046157</td>\n",
              "      <td>240.154170</td>\n",
              "      <td>20.510550</td>\n",
              "      <td>44.550582</td>\n",
              "      <td>1.680442</td>\n",
              "      <td>32.952519</td>\n",
              "      <td>131.622289</td>\n",
              "    </tr>\n",
              "    <tr>\n",
              "      <th>min</th>\n",
              "      <td>2.539000e+03</td>\n",
              "      <td>2.438000e+03</td>\n",
              "      <td>40.499790</td>\n",
              "      <td>-74.244420</td>\n",
              "      <td>0.000000</td>\n",
              "      <td>1.000000</td>\n",
              "      <td>0.000000</td>\n",
              "      <td>0.010000</td>\n",
              "      <td>1.000000</td>\n",
              "      <td>0.000000</td>\n",
              "    </tr>\n",
              "    <tr>\n",
              "      <th>25%</th>\n",
              "      <td>9.471945e+06</td>\n",
              "      <td>7.822033e+06</td>\n",
              "      <td>40.690100</td>\n",
              "      <td>-73.983070</td>\n",
              "      <td>69.000000</td>\n",
              "      <td>1.000000</td>\n",
              "      <td>1.000000</td>\n",
              "      <td>0.190000</td>\n",
              "      <td>1.000000</td>\n",
              "      <td>0.000000</td>\n",
              "    </tr>\n",
              "    <tr>\n",
              "      <th>50%</th>\n",
              "      <td>1.967728e+07</td>\n",
              "      <td>3.079382e+07</td>\n",
              "      <td>40.723070</td>\n",
              "      <td>-73.955680</td>\n",
              "      <td>106.000000</td>\n",
              "      <td>3.000000</td>\n",
              "      <td>5.000000</td>\n",
              "      <td>0.720000</td>\n",
              "      <td>1.000000</td>\n",
              "      <td>45.000000</td>\n",
              "    </tr>\n",
              "    <tr>\n",
              "      <th>75%</th>\n",
              "      <td>2.915218e+07</td>\n",
              "      <td>1.074344e+08</td>\n",
              "      <td>40.763115</td>\n",
              "      <td>-73.936275</td>\n",
              "      <td>175.000000</td>\n",
              "      <td>5.000000</td>\n",
              "      <td>24.000000</td>\n",
              "      <td>2.020000</td>\n",
              "      <td>2.000000</td>\n",
              "      <td>227.000000</td>\n",
              "    </tr>\n",
              "    <tr>\n",
              "      <th>max</th>\n",
              "      <td>3.648724e+07</td>\n",
              "      <td>2.743213e+08</td>\n",
              "      <td>40.913060</td>\n",
              "      <td>-73.712990</td>\n",
              "      <td>10000.000000</td>\n",
              "      <td>1250.000000</td>\n",
              "      <td>629.000000</td>\n",
              "      <td>58.500000</td>\n",
              "      <td>327.000000</td>\n",
              "      <td>365.000000</td>\n",
              "    </tr>\n",
              "  </tbody>\n",
              "</table>\n",
              "</div>\n",
              "      <button class=\"colab-df-convert\" onclick=\"convertToInteractive('df-5f91595d-16bd-4713-a74d-1f3e2fbeea5b')\"\n",
              "              title=\"Convert this dataframe to an interactive table.\"\n",
              "              style=\"display:none;\">\n",
              "        \n",
              "  <svg xmlns=\"http://www.w3.org/2000/svg\" height=\"24px\"viewBox=\"0 0 24 24\"\n",
              "       width=\"24px\">\n",
              "    <path d=\"M0 0h24v24H0V0z\" fill=\"none\"/>\n",
              "    <path d=\"M18.56 5.44l.94 2.06.94-2.06 2.06-.94-2.06-.94-.94-2.06-.94 2.06-2.06.94zm-11 1L8.5 8.5l.94-2.06 2.06-.94-2.06-.94L8.5 2.5l-.94 2.06-2.06.94zm10 10l.94 2.06.94-2.06 2.06-.94-2.06-.94-.94-2.06-.94 2.06-2.06.94z\"/><path d=\"M17.41 7.96l-1.37-1.37c-.4-.4-.92-.59-1.43-.59-.52 0-1.04.2-1.43.59L10.3 9.45l-7.72 7.72c-.78.78-.78 2.05 0 2.83L4 21.41c.39.39.9.59 1.41.59.51 0 1.02-.2 1.41-.59l7.78-7.78 2.81-2.81c.8-.78.8-2.07 0-2.86zM5.41 20L4 18.59l7.72-7.72 1.47 1.35L5.41 20z\"/>\n",
              "  </svg>\n",
              "      </button>\n",
              "      \n",
              "  <style>\n",
              "    .colab-df-container {\n",
              "      display:flex;\n",
              "      flex-wrap:wrap;\n",
              "      gap: 12px;\n",
              "    }\n",
              "\n",
              "    .colab-df-convert {\n",
              "      background-color: #E8F0FE;\n",
              "      border: none;\n",
              "      border-radius: 50%;\n",
              "      cursor: pointer;\n",
              "      display: none;\n",
              "      fill: #1967D2;\n",
              "      height: 32px;\n",
              "      padding: 0 0 0 0;\n",
              "      width: 32px;\n",
              "    }\n",
              "\n",
              "    .colab-df-convert:hover {\n",
              "      background-color: #E2EBFA;\n",
              "      box-shadow: 0px 1px 2px rgba(60, 64, 67, 0.3), 0px 1px 3px 1px rgba(60, 64, 67, 0.15);\n",
              "      fill: #174EA6;\n",
              "    }\n",
              "\n",
              "    [theme=dark] .colab-df-convert {\n",
              "      background-color: #3B4455;\n",
              "      fill: #D2E3FC;\n",
              "    }\n",
              "\n",
              "    [theme=dark] .colab-df-convert:hover {\n",
              "      background-color: #434B5C;\n",
              "      box-shadow: 0px 1px 3px 1px rgba(0, 0, 0, 0.15);\n",
              "      filter: drop-shadow(0px 1px 2px rgba(0, 0, 0, 0.3));\n",
              "      fill: #FFFFFF;\n",
              "    }\n",
              "  </style>\n",
              "\n",
              "      <script>\n",
              "        const buttonEl =\n",
              "          document.querySelector('#df-5f91595d-16bd-4713-a74d-1f3e2fbeea5b button.colab-df-convert');\n",
              "        buttonEl.style.display =\n",
              "          google.colab.kernel.accessAllowed ? 'block' : 'none';\n",
              "\n",
              "        async function convertToInteractive(key) {\n",
              "          const element = document.querySelector('#df-5f91595d-16bd-4713-a74d-1f3e2fbeea5b');\n",
              "          const dataTable =\n",
              "            await google.colab.kernel.invokeFunction('convertToInteractive',\n",
              "                                                     [key], {});\n",
              "          if (!dataTable) return;\n",
              "\n",
              "          const docLinkHtml = 'Like what you see? Visit the ' +\n",
              "            '<a target=\"_blank\" href=https://colab.research.google.com/notebooks/data_table.ipynb>data table notebook</a>'\n",
              "            + ' to learn more about interactive tables.';\n",
              "          element.innerHTML = '';\n",
              "          dataTable['output_type'] = 'display_data';\n",
              "          await google.colab.output.renderOutput(dataTable, element);\n",
              "          const docLink = document.createElement('div');\n",
              "          docLink.innerHTML = docLinkHtml;\n",
              "          element.appendChild(docLink);\n",
              "        }\n",
              "      </script>\n",
              "    </div>\n",
              "  </div>\n",
              "  "
            ]
          },
          "metadata": {},
          "execution_count": 42
        }
      ]
    },
    {
      "cell_type": "code",
      "metadata": {
        "colab": {
          "base_uri": "https://localhost:8080/",
          "height": 461
        },
        "id": "P2PIVE_Pmbij",
        "outputId": "d991c954-d771-43bc-c2ab-dc53ccb1d047"
      },
      "source": [
        "df.head()"
      ],
      "execution_count": null,
      "outputs": [
        {
          "output_type": "execute_result",
          "data": {
            "text/plain": [
              "     id                                              name  host_id  \\\n",
              "0  2539                Clean & quiet apt home by the park     2787   \n",
              "1  2595                             Skylit Midtown Castle     2845   \n",
              "2  3647               THE VILLAGE OF HARLEM....NEW YORK !     4632   \n",
              "3  3831                   Cozy Entire Floor of Brownstone     4869   \n",
              "4  5022  Entire Apt: Spacious Studio/Loft by central park     7192   \n",
              "\n",
              "     host_name neighbourhood_group neighbourhood  latitude  longitude  \\\n",
              "0         John            Brooklyn    Kensington  40.64749  -73.97237   \n",
              "1     Jennifer           Manhattan       Midtown  40.75362  -73.98377   \n",
              "2    Elisabeth           Manhattan        Harlem  40.80902  -73.94190   \n",
              "3  LisaRoxanne            Brooklyn  Clinton Hill  40.68514  -73.95976   \n",
              "4        Laura           Manhattan   East Harlem  40.79851  -73.94399   \n",
              "\n",
              "         room_type  price  minimum_nights  number_of_reviews last_review  \\\n",
              "0     Private room    149               1                  9  2018-10-19   \n",
              "1  Entire home/apt    225               1                 45  2019-05-21   \n",
              "2     Private room    150               3                  0         NaN   \n",
              "3  Entire home/apt     89               1                270  2019-07-05   \n",
              "4  Entire home/apt     80              10                  9  2018-11-19   \n",
              "\n",
              "   reviews_per_month  calculated_host_listings_count  availability_365  \n",
              "0               0.21                               6               365  \n",
              "1               0.38                               2               355  \n",
              "2                NaN                               1               365  \n",
              "3               4.64                               1               194  \n",
              "4               0.10                               1                 0  "
            ],
            "text/html": [
              "\n",
              "  <div id=\"df-77f4462a-e178-4c8e-ba62-b46f1a4b3b33\">\n",
              "    <div class=\"colab-df-container\">\n",
              "      <div>\n",
              "<style scoped>\n",
              "    .dataframe tbody tr th:only-of-type {\n",
              "        vertical-align: middle;\n",
              "    }\n",
              "\n",
              "    .dataframe tbody tr th {\n",
              "        vertical-align: top;\n",
              "    }\n",
              "\n",
              "    .dataframe thead th {\n",
              "        text-align: right;\n",
              "    }\n",
              "</style>\n",
              "<table border=\"1\" class=\"dataframe\">\n",
              "  <thead>\n",
              "    <tr style=\"text-align: right;\">\n",
              "      <th></th>\n",
              "      <th>id</th>\n",
              "      <th>name</th>\n",
              "      <th>host_id</th>\n",
              "      <th>host_name</th>\n",
              "      <th>neighbourhood_group</th>\n",
              "      <th>neighbourhood</th>\n",
              "      <th>latitude</th>\n",
              "      <th>longitude</th>\n",
              "      <th>room_type</th>\n",
              "      <th>price</th>\n",
              "      <th>minimum_nights</th>\n",
              "      <th>number_of_reviews</th>\n",
              "      <th>last_review</th>\n",
              "      <th>reviews_per_month</th>\n",
              "      <th>calculated_host_listings_count</th>\n",
              "      <th>availability_365</th>\n",
              "    </tr>\n",
              "  </thead>\n",
              "  <tbody>\n",
              "    <tr>\n",
              "      <th>0</th>\n",
              "      <td>2539</td>\n",
              "      <td>Clean &amp; quiet apt home by the park</td>\n",
              "      <td>2787</td>\n",
              "      <td>John</td>\n",
              "      <td>Brooklyn</td>\n",
              "      <td>Kensington</td>\n",
              "      <td>40.64749</td>\n",
              "      <td>-73.97237</td>\n",
              "      <td>Private room</td>\n",
              "      <td>149</td>\n",
              "      <td>1</td>\n",
              "      <td>9</td>\n",
              "      <td>2018-10-19</td>\n",
              "      <td>0.21</td>\n",
              "      <td>6</td>\n",
              "      <td>365</td>\n",
              "    </tr>\n",
              "    <tr>\n",
              "      <th>1</th>\n",
              "      <td>2595</td>\n",
              "      <td>Skylit Midtown Castle</td>\n",
              "      <td>2845</td>\n",
              "      <td>Jennifer</td>\n",
              "      <td>Manhattan</td>\n",
              "      <td>Midtown</td>\n",
              "      <td>40.75362</td>\n",
              "      <td>-73.98377</td>\n",
              "      <td>Entire home/apt</td>\n",
              "      <td>225</td>\n",
              "      <td>1</td>\n",
              "      <td>45</td>\n",
              "      <td>2019-05-21</td>\n",
              "      <td>0.38</td>\n",
              "      <td>2</td>\n",
              "      <td>355</td>\n",
              "    </tr>\n",
              "    <tr>\n",
              "      <th>2</th>\n",
              "      <td>3647</td>\n",
              "      <td>THE VILLAGE OF HARLEM....NEW YORK !</td>\n",
              "      <td>4632</td>\n",
              "      <td>Elisabeth</td>\n",
              "      <td>Manhattan</td>\n",
              "      <td>Harlem</td>\n",
              "      <td>40.80902</td>\n",
              "      <td>-73.94190</td>\n",
              "      <td>Private room</td>\n",
              "      <td>150</td>\n",
              "      <td>3</td>\n",
              "      <td>0</td>\n",
              "      <td>NaN</td>\n",
              "      <td>NaN</td>\n",
              "      <td>1</td>\n",
              "      <td>365</td>\n",
              "    </tr>\n",
              "    <tr>\n",
              "      <th>3</th>\n",
              "      <td>3831</td>\n",
              "      <td>Cozy Entire Floor of Brownstone</td>\n",
              "      <td>4869</td>\n",
              "      <td>LisaRoxanne</td>\n",
              "      <td>Brooklyn</td>\n",
              "      <td>Clinton Hill</td>\n",
              "      <td>40.68514</td>\n",
              "      <td>-73.95976</td>\n",
              "      <td>Entire home/apt</td>\n",
              "      <td>89</td>\n",
              "      <td>1</td>\n",
              "      <td>270</td>\n",
              "      <td>2019-07-05</td>\n",
              "      <td>4.64</td>\n",
              "      <td>1</td>\n",
              "      <td>194</td>\n",
              "    </tr>\n",
              "    <tr>\n",
              "      <th>4</th>\n",
              "      <td>5022</td>\n",
              "      <td>Entire Apt: Spacious Studio/Loft by central park</td>\n",
              "      <td>7192</td>\n",
              "      <td>Laura</td>\n",
              "      <td>Manhattan</td>\n",
              "      <td>East Harlem</td>\n",
              "      <td>40.79851</td>\n",
              "      <td>-73.94399</td>\n",
              "      <td>Entire home/apt</td>\n",
              "      <td>80</td>\n",
              "      <td>10</td>\n",
              "      <td>9</td>\n",
              "      <td>2018-11-19</td>\n",
              "      <td>0.10</td>\n",
              "      <td>1</td>\n",
              "      <td>0</td>\n",
              "    </tr>\n",
              "  </tbody>\n",
              "</table>\n",
              "</div>\n",
              "      <button class=\"colab-df-convert\" onclick=\"convertToInteractive('df-77f4462a-e178-4c8e-ba62-b46f1a4b3b33')\"\n",
              "              title=\"Convert this dataframe to an interactive table.\"\n",
              "              style=\"display:none;\">\n",
              "        \n",
              "  <svg xmlns=\"http://www.w3.org/2000/svg\" height=\"24px\"viewBox=\"0 0 24 24\"\n",
              "       width=\"24px\">\n",
              "    <path d=\"M0 0h24v24H0V0z\" fill=\"none\"/>\n",
              "    <path d=\"M18.56 5.44l.94 2.06.94-2.06 2.06-.94-2.06-.94-.94-2.06-.94 2.06-2.06.94zm-11 1L8.5 8.5l.94-2.06 2.06-.94-2.06-.94L8.5 2.5l-.94 2.06-2.06.94zm10 10l.94 2.06.94-2.06 2.06-.94-2.06-.94-.94-2.06-.94 2.06-2.06.94z\"/><path d=\"M17.41 7.96l-1.37-1.37c-.4-.4-.92-.59-1.43-.59-.52 0-1.04.2-1.43.59L10.3 9.45l-7.72 7.72c-.78.78-.78 2.05 0 2.83L4 21.41c.39.39.9.59 1.41.59.51 0 1.02-.2 1.41-.59l7.78-7.78 2.81-2.81c.8-.78.8-2.07 0-2.86zM5.41 20L4 18.59l7.72-7.72 1.47 1.35L5.41 20z\"/>\n",
              "  </svg>\n",
              "      </button>\n",
              "      \n",
              "  <style>\n",
              "    .colab-df-container {\n",
              "      display:flex;\n",
              "      flex-wrap:wrap;\n",
              "      gap: 12px;\n",
              "    }\n",
              "\n",
              "    .colab-df-convert {\n",
              "      background-color: #E8F0FE;\n",
              "      border: none;\n",
              "      border-radius: 50%;\n",
              "      cursor: pointer;\n",
              "      display: none;\n",
              "      fill: #1967D2;\n",
              "      height: 32px;\n",
              "      padding: 0 0 0 0;\n",
              "      width: 32px;\n",
              "    }\n",
              "\n",
              "    .colab-df-convert:hover {\n",
              "      background-color: #E2EBFA;\n",
              "      box-shadow: 0px 1px 2px rgba(60, 64, 67, 0.3), 0px 1px 3px 1px rgba(60, 64, 67, 0.15);\n",
              "      fill: #174EA6;\n",
              "    }\n",
              "\n",
              "    [theme=dark] .colab-df-convert {\n",
              "      background-color: #3B4455;\n",
              "      fill: #D2E3FC;\n",
              "    }\n",
              "\n",
              "    [theme=dark] .colab-df-convert:hover {\n",
              "      background-color: #434B5C;\n",
              "      box-shadow: 0px 1px 3px 1px rgba(0, 0, 0, 0.15);\n",
              "      filter: drop-shadow(0px 1px 2px rgba(0, 0, 0, 0.3));\n",
              "      fill: #FFFFFF;\n",
              "    }\n",
              "  </style>\n",
              "\n",
              "      <script>\n",
              "        const buttonEl =\n",
              "          document.querySelector('#df-77f4462a-e178-4c8e-ba62-b46f1a4b3b33 button.colab-df-convert');\n",
              "        buttonEl.style.display =\n",
              "          google.colab.kernel.accessAllowed ? 'block' : 'none';\n",
              "\n",
              "        async function convertToInteractive(key) {\n",
              "          const element = document.querySelector('#df-77f4462a-e178-4c8e-ba62-b46f1a4b3b33');\n",
              "          const dataTable =\n",
              "            await google.colab.kernel.invokeFunction('convertToInteractive',\n",
              "                                                     [key], {});\n",
              "          if (!dataTable) return;\n",
              "\n",
              "          const docLinkHtml = 'Like what you see? Visit the ' +\n",
              "            '<a target=\"_blank\" href=https://colab.research.google.com/notebooks/data_table.ipynb>data table notebook</a>'\n",
              "            + ' to learn more about interactive tables.';\n",
              "          element.innerHTML = '';\n",
              "          dataTable['output_type'] = 'display_data';\n",
              "          await google.colab.output.renderOutput(dataTable, element);\n",
              "          const docLink = document.createElement('div');\n",
              "          docLink.innerHTML = docLinkHtml;\n",
              "          element.appendChild(docLink);\n",
              "        }\n",
              "      </script>\n",
              "    </div>\n",
              "  </div>\n",
              "  "
            ]
          },
          "metadata": {},
          "execution_count": 7
        }
      ]
    },
    {
      "cell_type": "markdown",
      "source": [
        "### **Dataset Rows & Columns count**"
      ],
      "metadata": {
        "id": "b4lkuDXjg9g-"
      }
    },
    {
      "cell_type": "code",
      "source": [
        "#Dataset Rows & Columns count\n",
        "df.shape\n",
        "print(df.shape)\n",
        "print(f\"total number of rows in given data set is {df.shape[0]}\")\n",
        "print(f\"total number of columns in given data set is {df.shape[1]}\")"
      ],
      "metadata": {
        "colab": {
          "base_uri": "https://localhost:8080/"
        },
        "id": "zGp1WysNh2Rj",
        "outputId": "d89577ac-df82-4b6e-d0d4-b76ff8a8e8fa"
      },
      "execution_count": null,
      "outputs": [
        {
          "output_type": "stream",
          "name": "stdout",
          "text": [
            "(48895, 16)\n",
            "total number of rows in given data set is 48895\n",
            "total number of columns in given data set is 16\n"
          ]
        }
      ]
    },
    {
      "cell_type": "markdown",
      "source": [
        "# **Dataset Information**"
      ],
      "metadata": {
        "id": "zvzwVtu-laC9"
      }
    },
    {
      "cell_type": "code",
      "source": [
        "# Dataset Info\n",
        "df.info()"
      ],
      "metadata": {
        "colab": {
          "base_uri": "https://localhost:8080/"
        },
        "id": "M2DHKvRolYR2",
        "outputId": "9b73f069-0018-4867-94fd-d6fc8570b6a0"
      },
      "execution_count": null,
      "outputs": [
        {
          "output_type": "stream",
          "name": "stdout",
          "text": [
            "<class 'pandas.core.frame.DataFrame'>\n",
            "RangeIndex: 48895 entries, 0 to 48894\n",
            "Data columns (total 16 columns):\n",
            " #   Column                          Non-Null Count  Dtype  \n",
            "---  ------                          --------------  -----  \n",
            " 0   id                              48895 non-null  int64  \n",
            " 1   name                            48879 non-null  object \n",
            " 2   host_id                         48895 non-null  int64  \n",
            " 3   host_name                       48874 non-null  object \n",
            " 4   neighbourhood_group             48895 non-null  object \n",
            " 5   neighbourhood                   48895 non-null  object \n",
            " 6   latitude                        48895 non-null  float64\n",
            " 7   longitude                       48895 non-null  float64\n",
            " 8   room_type                       48895 non-null  object \n",
            " 9   price                           48895 non-null  int64  \n",
            " 10  minimum_nights                  48895 non-null  int64  \n",
            " 11  number_of_reviews               48895 non-null  int64  \n",
            " 12  last_review                     38843 non-null  object \n",
            " 13  reviews_per_month               38843 non-null  float64\n",
            " 14  calculated_host_listings_count  48895 non-null  int64  \n",
            " 15  availability_365                48895 non-null  int64  \n",
            "dtypes: float64(3), int64(7), object(6)\n",
            "memory usage: 6.0+ MB\n"
          ]
        }
      ]
    },
    {
      "cell_type": "markdown",
      "source": [
        "## **Missing Values/Null Values**"
      ],
      "metadata": {
        "id": "uT7BKWWPlsw6"
      }
    },
    {
      "cell_type": "code",
      "metadata": {
        "colab": {
          "base_uri": "https://localhost:8080/"
        },
        "id": "6kQv5yoLQM6W",
        "outputId": "ea4909d4-889c-4d4e-e44b-817791b442b1"
      },
      "source": [
        "#Missing Values/Null Values\n",
        "df.isnull().sum()"
      ],
      "execution_count": null,
      "outputs": [
        {
          "output_type": "execute_result",
          "data": {
            "text/plain": [
              "id                                    0\n",
              "name                                 16\n",
              "host_id                               0\n",
              "host_name                            21\n",
              "neighbourhood_group                   0\n",
              "neighbourhood                         0\n",
              "latitude                              0\n",
              "longitude                             0\n",
              "room_type                             0\n",
              "price                                 0\n",
              "minimum_nights                        0\n",
              "number_of_reviews                     0\n",
              "last_review                       10052\n",
              "reviews_per_month                 10052\n",
              "calculated_host_listings_count        0\n",
              "availability_365                      0\n",
              "dtype: int64"
            ]
          },
          "metadata": {},
          "execution_count": 10
        }
      ]
    },
    {
      "cell_type": "code",
      "source": [
        "# Visualizing the missing values\n",
        "sns.heatmap(df.isnull() )"
      ],
      "metadata": {
        "colab": {
          "base_uri": "https://localhost:8080/",
          "height": 652
        },
        "id": "0_0VGCUenam4",
        "outputId": "97efad23-5e39-48c5-9093-0293e1d55cf7"
      },
      "execution_count": null,
      "outputs": [
        {
          "output_type": "execute_result",
          "data": {
            "text/plain": [
              "<Axes: >"
            ]
          },
          "metadata": {},
          "execution_count": 11
        },
        {
          "output_type": "display_data",
          "data": {
            "text/plain": [
              "<Figure size 640x480 with 2 Axes>"
            ],
            "image/png": "[encoded data removed]"
          },
          "metadata": {}
        }
      ]
    },
    {
      "cell_type": "markdown",
      "source": [
        "### **What did you know about your dataset?**"
      ],
      "metadata": {
        "id": "_j0xo_bImXbr"
      }
    },
    {
      "cell_type": "markdown",
      "source": [
        "The given data set is provided by the Airbnb which is one of a kind service that is used and recognized by the whole world. Data set contain total 48895 numbers of rows and 16 coloumns. and it is a mix of categorical and numeric values. Explore and analyse the data to discover key understandings. data that can be analysed and used for security, business decisions, understanding of customers' and providers' (hosts) behaviour and performance on the platform, guiding marketing initiatives, implementation of innovative additional services and much more."
      ],
      "metadata": {
        "id": "L2wyGR0cmk9F"
      }
    },
    {
      "cell_type": "markdown",
      "source": [
        "# **2. Understanding Your Variables**"
      ],
      "metadata": {
        "id": "xtzSQRO-ts6k"
      }
    },
    {
      "cell_type": "code",
      "source": [
        "#dataset column\n",
        "df.columns"
      ],
      "metadata": {
        "colab": {
          "base_uri": "https://localhost:8080/"
        },
        "id": "unfmaGNQtxie",
        "outputId": "055dfe22-fd4d-4019-f6c6-5b5620894293"
      },
      "execution_count": null,
      "outputs": [
        {
          "output_type": "execute_result",
          "data": {
            "text/plain": [
              "Index(['id', 'name', 'host_id', 'host_name', 'neighbourhood_group',\n",
              "       'neighbourhood', 'latitude', 'longitude', 'room_type', 'price',\n",
              "       'minimum_nights', 'number_of_reviews', 'last_review',\n",
              "       'reviews_per_month', 'calculated_host_listings_count',\n",
              "       'availability_365'],\n",
              "      dtype='object')"
            ]
          },
          "metadata": {},
          "execution_count": 12
        }
      ]
    },
    {
      "cell_type": "code",
      "source": [
        "# Creating  Dataframe df copy for further data modification\n",
        "\n",
        "df_copy = df.copy()"
      ],
      "metadata": {
        "id": "cTs2NRh_p7Br"
      },
      "execution_count": null,
      "outputs": []
    },
    {
      "cell_type": "code",
      "source": [
        "#  As we seen dataset column 'last_review' contain data in form of date so we converting it in date function and with the same creating new column of year by extracting year from date\n",
        "\n",
        "df_copy['year']= pd.to_datetime(df_copy['last_review']).dt.to_period('Y').astype(str )\n",
        "print(df_copy['year'])"
      ],
      "metadata": {
        "colab": {
          "base_uri": "https://localhost:8080/"
        },
        "id": "oFlu6zbDp_nV",
        "outputId": "342074d6-f365-4e84-e111-1aa6dc354a78"
      },
      "execution_count": null,
      "outputs": [
        {
          "output_type": "stream",
          "name": "stdout",
          "text": [
            "0        2018\n",
            "1        2019\n",
            "2         NaT\n",
            "3        2019\n",
            "4        2018\n",
            "         ... \n",
            "48890     NaT\n",
            "48891     NaT\n",
            "48892     NaT\n",
            "48893     NaT\n",
            "48894     NaT\n",
            "Name: year, Length: 48895, dtype: object\n"
          ]
        }
      ]
    },
    {
      "cell_type": "markdown",
      "metadata": {
        "id": "XAxjA-AFVs4W"
      },
      "source": [
        "# **3. Data Wrangling**"
      ]
    },
    {
      "cell_type": "code",
      "metadata": {
        "colab": {
          "base_uri": "https://localhost:8080/",
          "height": 887
        },
        "id": "-vXBxeh_R3S6",
        "outputId": "d7644585-846f-4bc3-f28f-7a19e47e6e05"
      },
      "source": [
        "# Modified updated data set  (adding new column 'year')\n",
        "\n",
        "print(df_copy.shape)\n",
        "df_copy"
      ],
      "execution_count": null,
      "outputs": [
        {
          "output_type": "stream",
          "name": "stdout",
          "text": [
            "(48895, 17)\n"
          ]
        },
        {
          "output_type": "execute_result",
          "data": {
            "text/plain": [
              "             id                                               name   host_id  \\\n",
              "0          2539                 Clean & quiet apt home by the park      2787   \n",
              "1          2595                              Skylit Midtown Castle      2845   \n",
              "2          3647                THE VILLAGE OF HARLEM....NEW YORK !      4632   \n",
              "3          3831                    Cozy Entire Floor of Brownstone      4869   \n",
              "4          5022   Entire Apt: Spacious Studio/Loft by central park      7192   \n",
              "...         ...                                                ...       ...   \n",
              "48890  36484665    Charming one bedroom - newly renovated rowhouse   8232441   \n",
              "48891  36485057      Affordable room in Bushwick/East Williamsburg   6570630   \n",
              "48892  36485431            Sunny Studio at Historical Neighborhood  23492952   \n",
              "48893  36485609               43rd St. Time Square-cozy single bed  30985759   \n",
              "48894  36487245  Trendy duplex in the very heart of Hell's Kitchen  68119814   \n",
              "\n",
              "           host_name neighbourhood_group       neighbourhood  latitude  \\\n",
              "0               John            Brooklyn          Kensington  40.64749   \n",
              "1           Jennifer           Manhattan             Midtown  40.75362   \n",
              "2          Elisabeth           Manhattan              Harlem  40.80902   \n",
              "3        LisaRoxanne            Brooklyn        Clinton Hill  40.68514   \n",
              "4              Laura           Manhattan         East Harlem  40.79851   \n",
              "...              ...                 ...                 ...       ...   \n",
              "48890        Sabrina            Brooklyn  Bedford-Stuyvesant  40.67853   \n",
              "48891        Marisol            Brooklyn            Bushwick  40.70184   \n",
              "48892  Ilgar & Aysel           Manhattan              Harlem  40.81475   \n",
              "48893            Taz           Manhattan      Hell's Kitchen  40.75751   \n",
              "48894     Christophe           Manhattan      Hell's Kitchen  40.76404   \n",
              "\n",
              "       longitude        room_type  price  minimum_nights  number_of_reviews  \\\n",
              "0      -73.97237     Private room    149               1                  9   \n",
              "1      -73.98377  Entire home/apt    225               1                 45   \n",
              "2      -73.94190     Private room    150               3                  0   \n",
              "3      -73.95976  Entire home/apt     89               1                270   \n",
              "4      -73.94399  Entire home/apt     80              10                  9   \n",
              "...          ...              ...    ...             ...                ...   \n",
              "48890  -73.94995     Private room     70               2                  0   \n",
              "48891  -73.93317     Private room     40               4                  0   \n",
              "48892  -73.94867  Entire home/apt    115              10                  0   \n",
              "48893  -73.99112      Shared room     55               1                  0   \n",
              "48894  -73.98933     Private room     90               7                  0   \n",
              "\n",
              "      last_review  reviews_per_month  calculated_host_listings_count  \\\n",
              "0      2018-10-19               0.21                               6   \n",
              "1      2019-05-21               0.38                               2   \n",
              "2             NaN                NaN                               1   \n",
              "3      2019-07-05               4.64                               1   \n",
              "4      2018-11-19               0.10                               1   \n",
              "...           ...                ...                             ...   \n",
              "48890         NaN                NaN                               2   \n",
              "48891         NaN                NaN                               2   \n",
              "48892         NaN                NaN                               1   \n",
              "48893         NaN                NaN                               6   \n",
              "48894         NaN                NaN                               1   \n",
              "\n",
              "       availability_365  year  \n",
              "0                   365  2018  \n",
              "1                   355  2019  \n",
              "2                   365   NaT  \n",
              "3                   194  2019  \n",
              "4                     0  2018  \n",
              "...                 ...   ...  \n",
              "48890                 9   NaT  \n",
              "48891                36   NaT  \n",
              "48892                27   NaT  \n",
              "48893                 2   NaT  \n",
              "48894                23   NaT  \n",
              "\n",
              "[48895 rows x 17 columns]"
            ],
            "text/html": [
              "\n",
              "  <div id=\"df-bd107dfe-ccc1-456f-bc04-5176737d0c03\">\n",
              "    <div class=\"colab-df-container\">\n",
              "      <div>\n",
              "<style scoped>\n",
              "    .dataframe tbody tr th:only-of-type {\n",
              "        vertical-align: middle;\n",
              "    }\n",
              "\n",
              "    .dataframe tbody tr th {\n",
              "        vertical-align: top;\n",
              "    }\n",
              "\n",
              "    .dataframe thead th {\n",
              "        text-align: right;\n",
              "    }\n",
              "</style>\n",
              "<table border=\"1\" class=\"dataframe\">\n",
              "  <thead>\n",
              "    <tr style=\"text-align: right;\">\n",
              "      <th></th>\n",
              "      <th>id</th>\n",
              "      <th>name</th>\n",
              "      <th>host_id</th>\n",
              "      <th>host_name</th>\n",
              "      <th>neighbourhood_group</th>\n",
              "      <th>neighbourhood</th>\n",
              "      <th>latitude</th>\n",
              "      <th>longitude</th>\n",
              "      <th>room_type</th>\n",
              "      <th>price</th>\n",
              "      <th>minimum_nights</th>\n",
              "      <th>number_of_reviews</th>\n",
              "      <th>last_review</th>\n",
              "      <th>reviews_per_month</th>\n",
              "      <th>calculated_host_listings_count</th>\n",
              "      <th>availability_365</th>\n",
              "      <th>year</th>\n",
              "    </tr>\n",
              "  </thead>\n",
              "  <tbody>\n",
              "    <tr>\n",
              "      <th>0</th>\n",
              "      <td>2539</td>\n",
              "      <td>Clean &amp; quiet apt home by the park</td>\n",
              "      <td>2787</td>\n",
              "      <td>John</td>\n",
              "      <td>Brooklyn</td>\n",
              "      <td>Kensington</td>\n",
              "      <td>40.64749</td>\n",
              "      <td>-73.97237</td>\n",
              "      <td>Private room</td>\n",
              "      <td>149</td>\n",
              "      <td>1</td>\n",
              "      <td>9</td>\n",
              "      <td>2018-10-19</td>\n",
              "      <td>0.21</td>\n",
              "      <td>6</td>\n",
              "      <td>365</td>\n",
              "      <td>2018</td>\n",
              "    </tr>\n",
              "    <tr>\n",
              "      <th>1</th>\n",
              "      <td>2595</td>\n",
              "      <td>Skylit Midtown Castle</td>\n",
              "      <td>2845</td>\n",
              "      <td>Jennifer</td>\n",
              "      <td>Manhattan</td>\n",
              "      <td>Midtown</td>\n",
              "      <td>40.75362</td>\n",
              "      <td>-73.98377</td>\n",
              "      <td>Entire home/apt</td>\n",
              "      <td>225</td>\n",
              "      <td>1</td>\n",
              "      <td>45</td>\n",
              "      <td>2019-05-21</td>\n",
              "      <td>0.38</td>\n",
              "      <td>2</td>\n",
              "      <td>355</td>\n",
              "      <td>2019</td>\n",
              "    </tr>\n",
              "    <tr>\n",
              "      <th>2</th>\n",
              "      <td>3647</td>\n",
              "      <td>THE VILLAGE OF HARLEM....NEW YORK !</td>\n",
              "      <td>4632</td>\n",
              "      <td>Elisabeth</td>\n",
              "      <td>Manhattan</td>\n",
              "      <td>Harlem</td>\n",
              "      <td>40.80902</td>\n",
              "      <td>-73.94190</td>\n",
              "      <td>Private room</td>\n",
              "      <td>150</td>\n",
              "      <td>3</td>\n",
              "      <td>0</td>\n",
              "      <td>NaN</td>\n",
              "      <td>NaN</td>\n",
              "      <td>1</td>\n",
              "      <td>365</td>\n",
              "      <td>NaT</td>\n",
              "    </tr>\n",
              "    <tr>\n",
              "      <th>3</th>\n",
              "      <td>3831</td>\n",
              "      <td>Cozy Entire Floor of Brownstone</td>\n",
              "      <td>4869</td>\n",
              "      <td>LisaRoxanne</td>\n",
              "      <td>Brooklyn</td>\n",
              "      <td>Clinton Hill</td>\n",
              "      <td>40.68514</td>\n",
              "      <td>-73.95976</td>\n",
              "      <td>Entire home/apt</td>\n",
              "      <td>89</td>\n",
              "      <td>1</td>\n",
              "      <td>270</td>\n",
              "      <td>2019-07-05</td>\n",
              "      <td>4.64</td>\n",
              "      <td>1</td>\n",
              "      <td>194</td>\n",
              "      <td>2019</td>\n",
              "    </tr>\n",
              "    <tr>\n",
              "      <th>4</th>\n",
              "      <td>5022</td>\n",
              "      <td>Entire Apt: Spacious Studio/Loft by central park</td>\n",
              "      <td>7192</td>\n",
              "      <td>Laura</td>\n",
              "      <td>Manhattan</td>\n",
              "      <td>East Harlem</td>\n",
              "      <td>40.79851</td>\n",
              "      <td>-73.94399</td>\n",
              "      <td>Entire home/apt</td>\n",
              "      <td>80</td>\n",
              "      <td>10</td>\n",
              "      <td>9</td>\n",
              "      <td>2018-11-19</td>\n",
              "      <td>0.10</td>\n",
              "      <td>1</td>\n",
              "      <td>0</td>\n",
              "      <td>2018</td>\n",
              "    </tr>\n",
              "    <tr>\n",
              "      <th>...</th>\n",
              "      <td>...</td>\n",
              "      <td>...</td>\n",
              "      <td>...</td>\n",
              "      <td>...</td>\n",
              "      <td>...</td>\n",
              "      <td>...</td>\n",
              "      <td>...</td>\n",
              "      <td>...</td>\n",
              "      <td>...</td>\n",
              "      <td>...</td>\n",
              "      <td>...</td>\n",
              "      <td>...</td>\n",
              "      <td>...</td>\n",
              "      <td>...</td>\n",
              "      <td>...</td>\n",
              "      <td>...</td>\n",
              "      <td>...</td>\n",
              "    </tr>\n",
              "    <tr>\n",
              "      <th>48890</th>\n",
              "      <td>36484665</td>\n",
              "      <td>Charming one bedroom - newly renovated rowhouse</td>\n",
              "      <td>8232441</td>\n",
              "      <td>Sabrina</td>\n",
              "      <td>Brooklyn</td>\n",
              "      <td>Bedford-Stuyvesant</td>\n",
              "      <td>40.67853</td>\n",
              "      <td>-73.94995</td>\n",
              "      <td>Private room</td>\n",
              "      <td>70</td>\n",
              "      <td>2</td>\n",
              "      <td>0</td>\n",
              "      <td>NaN</td>\n",
              "      <td>NaN</td>\n",
              "      <td>2</td>\n",
              "      <td>9</td>\n",
              "      <td>NaT</td>\n",
              "    </tr>\n",
              "    <tr>\n",
              "      <th>48891</th>\n",
              "      <td>36485057</td>\n",
              "      <td>Affordable room in Bushwick/East Williamsburg</td>\n",
              "      <td>6570630</td>\n",
              "      <td>Marisol</td>\n",
              "      <td>Brooklyn</td>\n",
              "      <td>Bushwick</td>\n",
              "      <td>40.70184</td>\n",
              "      <td>-73.93317</td>\n",
              "      <td>Private room</td>\n",
              "      <td>40</td>\n",
              "      <td>4</td>\n",
              "      <td>0</td>\n",
              "      <td>NaN</td>\n",
              "      <td>NaN</td>\n",
              "      <td>2</td>\n",
              "      <td>36</td>\n",
              "      <td>NaT</td>\n",
              "    </tr>\n",
              "    <tr>\n",
              "      <th>48892</th>\n",
              "      <td>36485431</td>\n",
              "      <td>Sunny Studio at Historical Neighborhood</td>\n",
              "      <td>23492952</td>\n",
              "      <td>Ilgar &amp; Aysel</td>\n",
              "      <td>Manhattan</td>\n",
              "      <td>Harlem</td>\n",
              "      <td>40.81475</td>\n",
              "      <td>-73.94867</td>\n",
              "      <td>Entire home/apt</td>\n",
              "      <td>115</td>\n",
              "      <td>10</td>\n",
              "      <td>0</td>\n",
              "      <td>NaN</td>\n",
              "      <td>NaN</td>\n",
              "      <td>1</td>\n",
              "      <td>27</td>\n",
              "      <td>NaT</td>\n",
              "    </tr>\n",
              "    <tr>\n",
              "      <th>48893</th>\n",
              "      <td>36485609</td>\n",
              "      <td>43rd St. Time Square-cozy single bed</td>\n",
              "      <td>30985759</td>\n",
              "      <td>Taz</td>\n",
              "      <td>Manhattan</td>\n",
              "      <td>Hell's Kitchen</td>\n",
              "      <td>40.75751</td>\n",
              "      <td>-73.99112</td>\n",
              "      <td>Shared room</td>\n",
              "      <td>55</td>\n",
              "      <td>1</td>\n",
              "      <td>0</td>\n",
              "      <td>NaN</td>\n",
              "      <td>NaN</td>\n",
              "      <td>6</td>\n",
              "      <td>2</td>\n",
              "      <td>NaT</td>\n",
              "    </tr>\n",
              "    <tr>\n",
              "      <th>48894</th>\n",
              "      <td>36487245</td>\n",
              "      <td>Trendy duplex in the very heart of Hell's Kitchen</td>\n",
              "      <td>68119814</td>\n",
              "      <td>Christophe</td>\n",
              "      <td>Manhattan</td>\n",
              "      <td>Hell's Kitchen</td>\n",
              "      <td>40.76404</td>\n",
              "      <td>-73.98933</td>\n",
              "      <td>Private room</td>\n",
              "      <td>90</td>\n",
              "      <td>7</td>\n",
              "      <td>0</td>\n",
              "      <td>NaN</td>\n",
              "      <td>NaN</td>\n",
              "      <td>1</td>\n",
              "      <td>23</td>\n",
              "      <td>NaT</td>\n",
              "    </tr>\n",
              "  </tbody>\n",
              "</table>\n",
              "<p>48895 rows × 17 columns</p>\n",
              "</div>\n",
              "      <button class=\"colab-df-convert\" onclick=\"convertToInteractive('df-bd107dfe-ccc1-456f-bc04-5176737d0c03')\"\n",
              "              title=\"Convert this dataframe to an interactive table.\"\n",
              "              style=\"display:none;\">\n",
              "        \n",
              "  <svg xmlns=\"http://www.w3.org/2000/svg\" height=\"24px\"viewBox=\"0 0 24 24\"\n",
              "       width=\"24px\">\n",
              "    <path d=\"M0 0h24v24H0V0z\" fill=\"none\"/>\n",
              "    <path d=\"M18.56 5.44l.94 2.06.94-2.06 2.06-.94-2.06-.94-.94-2.06-.94 2.06-2.06.94zm-11 1L8.5 8.5l.94-2.06 2.06-.94-2.06-.94L8.5 2.5l-.94 2.06-2.06.94zm10 10l.94 2.06.94-2.06 2.06-.94-2.06-.94-.94-2.06-.94 2.06-2.06.94z\"/><path d=\"M17.41 7.96l-1.37-1.37c-.4-.4-.92-.59-1.43-.59-.52 0-1.04.2-1.43.59L10.3 9.45l-7.72 7.72c-.78.78-.78 2.05 0 2.83L4 21.41c.39.39.9.59 1.41.59.51 0 1.02-.2 1.41-.59l7.78-7.78 2.81-2.81c.8-.78.8-2.07 0-2.86zM5.41 20L4 18.59l7.72-7.72 1.47 1.35L5.41 20z\"/>\n",
              "  </svg>\n",
              "      </button>\n",
              "      \n",
              "  <style>\n",
              "    .colab-df-container {\n",
              "      display:flex;\n",
              "      flex-wrap:wrap;\n",
              "      gap: 12px;\n",
              "    }\n",
              "\n",
              "    .colab-df-convert {\n",
              "      background-color: #E8F0FE;\n",
              "      border: none;\n",
              "      border-radius: 50%;\n",
              "      cursor: pointer;\n",
              "      display: none;\n",
              "      fill: #1967D2;\n",
              "      height: 32px;\n",
              "      padding: 0 0 0 0;\n",
              "      width: 32px;\n",
              "    }\n",
              "\n",
              "    .colab-df-convert:hover {\n",
              "      background-color: #E2EBFA;\n",
              "      box-shadow: 0px 1px 2px rgba(60, 64, 67, 0.3), 0px 1px 3px 1px rgba(60, 64, 67, 0.15);\n",
              "      fill: #174EA6;\n",
              "    }\n",
              "\n",
              "    [theme=dark] .colab-df-convert {\n",
              "      background-color: #3B4455;\n",
              "      fill: #D2E3FC;\n",
              "    }\n",
              "\n",
              "    [theme=dark] .colab-df-convert:hover {\n",
              "      background-color: #434B5C;\n",
              "      box-shadow: 0px 1px 3px 1px rgba(0, 0, 0, 0.15);\n",
              "      filter: drop-shadow(0px 1px 2px rgba(0, 0, 0, 0.3));\n",
              "      fill: #FFFFFF;\n",
              "    }\n",
              "  </style>\n",
              "\n",
              "      <script>\n",
              "        const buttonEl =\n",
              "          document.querySelector('#df-bd107dfe-ccc1-456f-bc04-5176737d0c03 button.colab-df-convert');\n",
              "        buttonEl.style.display =\n",
              "          google.colab.kernel.accessAllowed ? 'block' : 'none';\n",
              "\n",
              "        async function convertToInteractive(key) {\n",
              "          const element = document.querySelector('#df-bd107dfe-ccc1-456f-bc04-5176737d0c03');\n",
              "          const dataTable =\n",
              "            await google.colab.kernel.invokeFunction('convertToInteractive',\n",
              "                                                     [key], {});\n",
              "          if (!dataTable) return;\n",
              "\n",
              "          const docLinkHtml = 'Like what you see? Visit the ' +\n",
              "            '<a target=\"_blank\" href=https://colab.research.google.com/notebooks/data_table.ipynb>data table notebook</a>'\n",
              "            + ' to learn more about interactive tables.';\n",
              "          element.innerHTML = '';\n",
              "          dataTable['output_type'] = 'display_data';\n",
              "          await google.colab.output.renderOutput(dataTable, element);\n",
              "          const docLink = document.createElement('div');\n",
              "          docLink.innerHTML = docLinkHtml;\n",
              "          element.appendChild(docLink);\n",
              "        }\n",
              "      </script>\n",
              "    </div>\n",
              "  </div>\n",
              "  "
            ]
          },
          "metadata": {},
          "execution_count": 17
        }
      ]
    },
    {
      "cell_type": "code",
      "source": [
        "# Check Unique Values for each variable.\n",
        "\n",
        "for i in df.columns.tolist():\n",
        "  print(\"No. of unique values in \",i,\"is\",df[i].nunique(),\".\")"
      ],
      "metadata": {
        "colab": {
          "base_uri": "https://localhost:8080/"
        },
        "id": "xP-vzEKko3bk",
        "outputId": "9fe15c53-5ae4-4ed6-87d9-f3cf63843e22"
      },
      "execution_count": null,
      "outputs": [
        {
          "output_type": "stream",
          "name": "stdout",
          "text": [
            "No. of unique values in  id is 48895 .\n",
            "No. of unique values in  name is 47905 .\n",
            "No. of unique values in  host_id is 37457 .\n",
            "No. of unique values in  host_name is 11452 .\n",
            "No. of unique values in  neighbourhood_group is 5 .\n",
            "No. of unique values in  neighbourhood is 221 .\n",
            "No. of unique values in  latitude is 19048 .\n",
            "No. of unique values in  longitude is 14718 .\n",
            "No. of unique values in  room_type is 3 .\n",
            "No. of unique values in  price is 674 .\n",
            "No. of unique values in  minimum_nights is 109 .\n",
            "No. of unique values in  number_of_reviews is 394 .\n",
            "No. of unique values in  last_review is 1764 .\n",
            "No. of unique values in  reviews_per_month is 937 .\n",
            "No. of unique values in  calculated_host_listings_count is 47 .\n",
            "No. of unique values in  availability_365 is 366 .\n"
          ]
        }
      ]
    },
    {
      "cell_type": "markdown",
      "metadata": {
        "id": "AhWPUyKWW71H"
      },
      "source": [
        "## What can we learn about different hosts and areas?"
      ]
    },
    {
      "cell_type": "code",
      "metadata": {
        "colab": {
          "base_uri": "https://localhost:8080/",
          "height": 206
        },
        "id": "eIire7M5YUZM",
        "outputId": "e8853dcd-981f-46be-fb13-4832411169f3"
      },
      "source": [
        "hosts_areas = df.groupby(['host_name','neighbourhood_group'])['calculated_host_listings_count'].max().reset_index()\n",
        "hosts_areas.sort_values(by='calculated_host_listings_count', ascending=False).head(5)\n"
      ],
      "execution_count": null,
      "outputs": [
        {
          "output_type": "execute_result",
          "data": {
            "text/plain": [
              "          host_name neighbourhood_group  calculated_host_listings_count\n",
              "13217  Sonder (NYC)           Manhattan                             327\n",
              "1834     Blueground           Manhattan                             232\n",
              "1833     Blueground            Brooklyn                             232\n",
              "7275           Kara           Manhattan                             121\n",
              "7480         Kazuya              Queens                             103"
            ],
            "text/html": [
              "\n",
              "  <div id=\"df-3c13fb4f-18e9-46e4-9fef-36af1343026f\">\n",
              "    <div class=\"colab-df-container\">\n",
              "      <div>\n",
              "<style scoped>\n",
              "    .dataframe tbody tr th:only-of-type {\n",
              "        vertical-align: middle;\n",
              "    }\n",
              "\n",
              "    .dataframe tbody tr th {\n",
              "        vertical-align: top;\n",
              "    }\n",
              "\n",
              "    .dataframe thead th {\n",
              "        text-align: right;\n",
              "    }\n",
              "</style>\n",
              "<table border=\"1\" class=\"dataframe\">\n",
              "  <thead>\n",
              "    <tr style=\"text-align: right;\">\n",
              "      <th></th>\n",
              "      <th>host_name</th>\n",
              "      <th>neighbourhood_group</th>\n",
              "      <th>calculated_host_listings_count</th>\n",
              "    </tr>\n",
              "  </thead>\n",
              "  <tbody>\n",
              "    <tr>\n",
              "      <th>13217</th>\n",
              "      <td>Sonder (NYC)</td>\n",
              "      <td>Manhattan</td>\n",
              "      <td>327</td>\n",
              "    </tr>\n",
              "    <tr>\n",
              "      <th>1834</th>\n",
              "      <td>Blueground</td>\n",
              "      <td>Manhattan</td>\n",
              "      <td>232</td>\n",
              "    </tr>\n",
              "    <tr>\n",
              "      <th>1833</th>\n",
              "      <td>Blueground</td>\n",
              "      <td>Brooklyn</td>\n",
              "      <td>232</td>\n",
              "    </tr>\n",
              "    <tr>\n",
              "      <th>7275</th>\n",
              "      <td>Kara</td>\n",
              "      <td>Manhattan</td>\n",
              "      <td>121</td>\n",
              "    </tr>\n",
              "    <tr>\n",
              "      <th>7480</th>\n",
              "      <td>Kazuya</td>\n",
              "      <td>Queens</td>\n",
              "      <td>103</td>\n",
              "    </tr>\n",
              "  </tbody>\n",
              "</table>\n",
              "</div>\n",
              "      <button class=\"colab-df-convert\" onclick=\"convertToInteractive('df-3c13fb4f-18e9-46e4-9fef-36af1343026f')\"\n",
              "              title=\"Convert this dataframe to an interactive table.\"\n",
              "              style=\"display:none;\">\n",
              "        \n",
              "  <svg xmlns=\"http://www.w3.org/2000/svg\" height=\"24px\"viewBox=\"0 0 24 24\"\n",
              "       width=\"24px\">\n",
              "    <path d=\"M0 0h24v24H0V0z\" fill=\"none\"/>\n",
              "    <path d=\"M18.56 5.44l.94 2.06.94-2.06 2.06-.94-2.06-.94-.94-2.06-.94 2.06-2.06.94zm-11 1L8.5 8.5l.94-2.06 2.06-.94-2.06-.94L8.5 2.5l-.94 2.06-2.06.94zm10 10l.94 2.06.94-2.06 2.06-.94-2.06-.94-.94-2.06-.94 2.06-2.06.94z\"/><path d=\"M17.41 7.96l-1.37-1.37c-.4-.4-.92-.59-1.43-.59-.52 0-1.04.2-1.43.59L10.3 9.45l-7.72 7.72c-.78.78-.78 2.05 0 2.83L4 21.41c.39.39.9.59 1.41.59.51 0 1.02-.2 1.41-.59l7.78-7.78 2.81-2.81c.8-.78.8-2.07 0-2.86zM5.41 20L4 18.59l7.72-7.72 1.47 1.35L5.41 20z\"/>\n",
              "  </svg>\n",
              "      </button>\n",
              "      \n",
              "  <style>\n",
              "    .colab-df-container {\n",
              "      display:flex;\n",
              "      flex-wrap:wrap;\n",
              "      gap: 12px;\n",
              "    }\n",
              "\n",
              "    .colab-df-convert {\n",
              "      background-color: #E8F0FE;\n",
              "      border: none;\n",
              "      border-radius: 50%;\n",
              "      cursor: pointer;\n",
              "      display: none;\n",
              "      fill: #1967D2;\n",
              "      height: 32px;\n",
              "      padding: 0 0 0 0;\n",
              "      width: 32px;\n",
              "    }\n",
              "\n",
              "    .colab-df-convert:hover {\n",
              "      background-color: #E2EBFA;\n",
              "      box-shadow: 0px 1px 2px rgba(60, 64, 67, 0.3), 0px 1px 3px 1px rgba(60, 64, 67, 0.15);\n",
              "      fill: #174EA6;\n",
              "    }\n",
              "\n",
              "    [theme=dark] .colab-df-convert {\n",
              "      background-color: #3B4455;\n",
              "      fill: #D2E3FC;\n",
              "    }\n",
              "\n",
              "    [theme=dark] .colab-df-convert:hover {\n",
              "      background-color: #434B5C;\n",
              "      box-shadow: 0px 1px 3px 1px rgba(0, 0, 0, 0.15);\n",
              "      filter: drop-shadow(0px 1px 2px rgba(0, 0, 0, 0.3));\n",
              "      fill: #FFFFFF;\n",
              "    }\n",
              "  </style>\n",
              "\n",
              "      <script>\n",
              "        const buttonEl =\n",
              "          document.querySelector('#df-3c13fb4f-18e9-46e4-9fef-36af1343026f button.colab-df-convert');\n",
              "        buttonEl.style.display =\n",
              "          google.colab.kernel.accessAllowed ? 'block' : 'none';\n",
              "\n",
              "        async function convertToInteractive(key) {\n",
              "          const element = document.querySelector('#df-3c13fb4f-18e9-46e4-9fef-36af1343026f');\n",
              "          const dataTable =\n",
              "            await google.colab.kernel.invokeFunction('convertToInteractive',\n",
              "                                                     [key], {});\n",
              "          if (!dataTable) return;\n",
              "\n",
              "          const docLinkHtml = 'Like what you see? Visit the ' +\n",
              "            '<a target=\"_blank\" href=https://colab.research.google.com/notebooks/data_table.ipynb>data table notebook</a>'\n",
              "            + ' to learn more about interactive tables.';\n",
              "          element.innerHTML = '';\n",
              "          dataTable['output_type'] = 'display_data';\n",
              "          await google.colab.output.renderOutput(dataTable, element);\n",
              "          const docLink = document.createElement('div');\n",
              "          docLink.innerHTML = docLinkHtml;\n",
              "          element.appendChild(docLink);\n",
              "        }\n",
              "      </script>\n",
              "    </div>\n",
              "  </div>\n",
              "  "
            ]
          },
          "metadata": {},
          "execution_count": 24
        }
      ]
    },
    {
      "cell_type": "markdown",
      "metadata": {
        "id": "os4mPTmUkHeD"
      },
      "source": [
        "##As we can see most number of listings are from **Manhattan** created Sonder (NYC), Blueground, Michael, David"
      ]
    },
    {
      "cell_type": "code",
      "source": [
        "# Number of reviews as on room type\n",
        "\n",
        "areas_reviews=df.groupby(['room_type'])['number_of_reviews'].max().reset_index()\n",
        "areas_reviews"
      ],
      "metadata": {
        "colab": {
          "base_uri": "https://localhost:8080/",
          "height": 143
        },
        "id": "_0iYAEOGw15d",
        "outputId": "618aab22-03cd-439a-9ada-013c20e4be3c"
      },
      "execution_count": null,
      "outputs": [
        {
          "output_type": "execute_result",
          "data": {
            "text/plain": [
              "         room_type  number_of_reviews\n",
              "0  Entire home/apt                488\n",
              "1     Private room                629\n",
              "2      Shared room                454"
            ],
            "text/html": [
              "\n",
              "  <div id=\"df-d59f4bab-4de1-4c9b-aa55-f3787dfec323\">\n",
              "    <div class=\"colab-df-container\">\n",
              "      <div>\n",
              "<style scoped>\n",
              "    .dataframe tbody tr th:only-of-type {\n",
              "        vertical-align: middle;\n",
              "    }\n",
              "\n",
              "    .dataframe tbody tr th {\n",
              "        vertical-align: top;\n",
              "    }\n",
              "\n",
              "    .dataframe thead th {\n",
              "        text-align: right;\n",
              "    }\n",
              "</style>\n",
              "<table border=\"1\" class=\"dataframe\">\n",
              "  <thead>\n",
              "    <tr style=\"text-align: right;\">\n",
              "      <th></th>\n",
              "      <th>room_type</th>\n",
              "      <th>number_of_reviews</th>\n",
              "    </tr>\n",
              "  </thead>\n",
              "  <tbody>\n",
              "    <tr>\n",
              "      <th>0</th>\n",
              "      <td>Entire home/apt</td>\n",
              "      <td>488</td>\n",
              "    </tr>\n",
              "    <tr>\n",
              "      <th>1</th>\n",
              "      <td>Private room</td>\n",
              "      <td>629</td>\n",
              "    </tr>\n",
              "    <tr>\n",
              "      <th>2</th>\n",
              "      <td>Shared room</td>\n",
              "      <td>454</td>\n",
              "    </tr>\n",
              "  </tbody>\n",
              "</table>\n",
              "</div>\n",
              "      <button class=\"colab-df-convert\" onclick=\"convertToInteractive('df-d59f4bab-4de1-4c9b-aa55-f3787dfec323')\"\n",
              "              title=\"Convert this dataframe to an interactive table.\"\n",
              "              style=\"display:none;\">\n",
              "        \n",
              "  <svg xmlns=\"http://www.w3.org/2000/svg\" height=\"24px\"viewBox=\"0 0 24 24\"\n",
              "       width=\"24px\">\n",
              "    <path d=\"M0 0h24v24H0V0z\" fill=\"none\"/>\n",
              "    <path d=\"M18.56 5.44l.94 2.06.94-2.06 2.06-.94-2.06-.94-.94-2.06-.94 2.06-2.06.94zm-11 1L8.5 8.5l.94-2.06 2.06-.94-2.06-.94L8.5 2.5l-.94 2.06-2.06.94zm10 10l.94 2.06.94-2.06 2.06-.94-2.06-.94-.94-2.06-.94 2.06-2.06.94z\"/><path d=\"M17.41 7.96l-1.37-1.37c-.4-.4-.92-.59-1.43-.59-.52 0-1.04.2-1.43.59L10.3 9.45l-7.72 7.72c-.78.78-.78 2.05 0 2.83L4 21.41c.39.39.9.59 1.41.59.51 0 1.02-.2 1.41-.59l7.78-7.78 2.81-2.81c.8-.78.8-2.07 0-2.86zM5.41 20L4 18.59l7.72-7.72 1.47 1.35L5.41 20z\"/>\n",
              "  </svg>\n",
              "      </button>\n",
              "      \n",
              "  <style>\n",
              "    .colab-df-container {\n",
              "      display:flex;\n",
              "      flex-wrap:wrap;\n",
              "      gap: 12px;\n",
              "    }\n",
              "\n",
              "    .colab-df-convert {\n",
              "      background-color: #E8F0FE;\n",
              "      border: none;\n",
              "      border-radius: 50%;\n",
              "      cursor: pointer;\n",
              "      display: none;\n",
              "      fill: #1967D2;\n",
              "      height: 32px;\n",
              "      padding: 0 0 0 0;\n",
              "      width: 32px;\n",
              "    }\n",
              "\n",
              "    .colab-df-convert:hover {\n",
              "      background-color: #E2EBFA;\n",
              "      box-shadow: 0px 1px 2px rgba(60, 64, 67, 0.3), 0px 1px 3px 1px rgba(60, 64, 67, 0.15);\n",
              "      fill: #174EA6;\n",
              "    }\n",
              "\n",
              "    [theme=dark] .colab-df-convert {\n",
              "      background-color: #3B4455;\n",
              "      fill: #D2E3FC;\n",
              "    }\n",
              "\n",
              "    [theme=dark] .colab-df-convert:hover {\n",
              "      background-color: #434B5C;\n",
              "      box-shadow: 0px 1px 3px 1px rgba(0, 0, 0, 0.15);\n",
              "      filter: drop-shadow(0px 1px 2px rgba(0, 0, 0, 0.3));\n",
              "      fill: #FFFFFF;\n",
              "    }\n",
              "  </style>\n",
              "\n",
              "      <script>\n",
              "        const buttonEl =\n",
              "          document.querySelector('#df-d59f4bab-4de1-4c9b-aa55-f3787dfec323 button.colab-df-convert');\n",
              "        buttonEl.style.display =\n",
              "          google.colab.kernel.accessAllowed ? 'block' : 'none';\n",
              "\n",
              "        async function convertToInteractive(key) {\n",
              "          const element = document.querySelector('#df-d59f4bab-4de1-4c9b-aa55-f3787dfec323');\n",
              "          const dataTable =\n",
              "            await google.colab.kernel.invokeFunction('convertToInteractive',\n",
              "                                                     [key], {});\n",
              "          if (!dataTable) return;\n",
              "\n",
              "          const docLinkHtml = 'Like what you see? Visit the ' +\n",
              "            '<a target=\"_blank\" href=https://colab.research.google.com/notebooks/data_table.ipynb>data table notebook</a>'\n",
              "            + ' to learn more about interactive tables.';\n",
              "          element.innerHTML = '';\n",
              "          dataTable['output_type'] = 'display_data';\n",
              "          await google.colab.output.renderOutput(dataTable, element);\n",
              "          const docLink = document.createElement('div');\n",
              "          docLink.innerHTML = docLinkHtml;\n",
              "          element.appendChild(docLink);\n",
              "        }\n",
              "      </script>\n",
              "    </div>\n",
              "  </div>\n",
              "  "
            ]
          },
          "metadata": {},
          "execution_count": 25
        }
      ]
    },
    {
      "cell_type": "markdown",
      "source": [
        "### What all manipulations have you done and insights you found?"
      ],
      "metadata": {
        "id": "J9zLzGT3wMjg"
      }
    },
    {
      "cell_type": "markdown",
      "source": [
        "Below chart shate that number of reviews as on each room type private room got most reviews than other room type. So we can say that by seeing below chart, most of the guest preffered private room to stay."
      ],
      "metadata": {
        "id": "2C9J7kcGwhFh"
      }
    },
    {
      "cell_type": "markdown",
      "source": [
        "![Screenshot_20221220_084135.png](data:image/png;base64,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)"
      ],
      "metadata": {
        "id": "LbyXE7I1olp8"
      }
    },
    {
      "cell_type": "markdown",
      "source": [
        "Below chart is about booking of room in respective neighbourhood group. we obesrve that manhattan has most booking than other neighbourhood group. Manhattan is followed by brooklyn which has total 20104 bookings. staten island has least number of booking than other neighbouring group."
      ],
      "metadata": {
        "id": "3A4Kf5bHxfQA"
      }
    },
    {
      "cell_type": "markdown",
      "source": [
        "![Screenshot_20221220_083928.png](data:image/png;base64,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)"
      ],
      "metadata": {
        "id": "wpeYVAORiQTD"
      }
    },
    {
      "cell_type": "markdown",
      "source": [
        "Following chart shows the realtion between room type, neighbourhood group and its price. By seeing the below chart we can say that manhattan is most affordable neighbourhood group than other because all room types are cheap there."
      ],
      "metadata": {
        "id": "kTtEcTT7xqJY"
      }
    },
    {
      "cell_type": "markdown",
      "source": [
        "![Screenshot_20221220_083953.png](data:image/png;base64,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)"
      ],
      "metadata": {
        "id": "Ph-T-N_SjsdY"
      }
    },
    {
      "cell_type": "markdown",
      "source": [
        "Below chart shows the number of room type availbale in respective neighbourhood groups. Manhattan has most number of Entire Home/aapt. Brooklyn has most number of private rooms. Brooklyn and Manhattan nearly equal number of shared room."
      ],
      "metadata": {
        "id": "lHYCoBOwx6Vf"
      }
    },
    {
      "cell_type": "markdown",
      "source": [
        "![Screenshot_20221220_084004.png](data:image/png;base64,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)"
      ],
      "metadata": {
        "id": "1srOJcMulRqT"
      }
    },
    {
      "cell_type": "markdown",
      "metadata": {
        "id": "LvglxArIlebV"
      },
      "source": [
        "## What can we learn from predictions? (ex: locations, prices, reviews, etc)"
      ]
    },
    {
      "cell_type": "code",
      "metadata": {
        "colab": {
          "base_uri": "https://localhost:8080/",
          "height": 206
        },
        "id": "BZDeIXzklEXa",
        "outputId": "17864eb8-87ed-42cd-8cf5-87640c9c76b3"
      },
      "source": [
        "areas_reviews = df.groupby(['neighbourhood_group'])['number_of_reviews'].max().reset_index()\n",
        "areas_reviews"
      ],
      "execution_count": null,
      "outputs": [
        {
          "output_type": "execute_result",
          "data": {
            "text/plain": [
              "  neighbourhood_group  number_of_reviews\n",
              "0               Bronx                321\n",
              "1            Brooklyn                488\n",
              "2           Manhattan                607\n",
              "3              Queens                629\n",
              "4       Staten Island                333"
            ],
            "text/html": [
              "\n",
              "  <div id=\"df-035591f5-60ca-456b-ae38-d7bff7a96af1\">\n",
              "    <div class=\"colab-df-container\">\n",
              "      <div>\n",
              "<style scoped>\n",
              "    .dataframe tbody tr th:only-of-type {\n",
              "        vertical-align: middle;\n",
              "    }\n",
              "\n",
              "    .dataframe tbody tr th {\n",
              "        vertical-align: top;\n",
              "    }\n",
              "\n",
              "    .dataframe thead th {\n",
              "        text-align: right;\n",
              "    }\n",
              "</style>\n",
              "<table border=\"1\" class=\"dataframe\">\n",
              "  <thead>\n",
              "    <tr style=\"text-align: right;\">\n",
              "      <th></th>\n",
              "      <th>neighbourhood_group</th>\n",
              "      <th>number_of_reviews</th>\n",
              "    </tr>\n",
              "  </thead>\n",
              "  <tbody>\n",
              "    <tr>\n",
              "      <th>0</th>\n",
              "      <td>Bronx</td>\n",
              "      <td>321</td>\n",
              "    </tr>\n",
              "    <tr>\n",
              "      <th>1</th>\n",
              "      <td>Brooklyn</td>\n",
              "      <td>488</td>\n",
              "    </tr>\n",
              "    <tr>\n",
              "      <th>2</th>\n",
              "      <td>Manhattan</td>\n",
              "      <td>607</td>\n",
              "    </tr>\n",
              "    <tr>\n",
              "      <th>3</th>\n",
              "      <td>Queens</td>\n",
              "      <td>629</td>\n",
              "    </tr>\n",
              "    <tr>\n",
              "      <th>4</th>\n",
              "      <td>Staten Island</td>\n",
              "      <td>333</td>\n",
              "    </tr>\n",
              "  </tbody>\n",
              "</table>\n",
              "</div>\n",
              "      <button class=\"colab-df-convert\" onclick=\"convertToInteractive('df-035591f5-60ca-456b-ae38-d7bff7a96af1')\"\n",
              "              title=\"Convert this dataframe to an interactive table.\"\n",
              "              style=\"display:none;\">\n",
              "        \n",
              "  <svg xmlns=\"http://www.w3.org/2000/svg\" height=\"24px\"viewBox=\"0 0 24 24\"\n",
              "       width=\"24px\">\n",
              "    <path d=\"M0 0h24v24H0V0z\" fill=\"none\"/>\n",
              "    <path d=\"M18.56 5.44l.94 2.06.94-2.06 2.06-.94-2.06-.94-.94-2.06-.94 2.06-2.06.94zm-11 1L8.5 8.5l.94-2.06 2.06-.94-2.06-.94L8.5 2.5l-.94 2.06-2.06.94zm10 10l.94 2.06.94-2.06 2.06-.94-2.06-.94-.94-2.06-.94 2.06-2.06.94z\"/><path d=\"M17.41 7.96l-1.37-1.37c-.4-.4-.92-.59-1.43-.59-.52 0-1.04.2-1.43.59L10.3 9.45l-7.72 7.72c-.78.78-.78 2.05 0 2.83L4 21.41c.39.39.9.59 1.41.59.51 0 1.02-.2 1.41-.59l7.78-7.78 2.81-2.81c.8-.78.8-2.07 0-2.86zM5.41 20L4 18.59l7.72-7.72 1.47 1.35L5.41 20z\"/>\n",
              "  </svg>\n",
              "      </button>\n",
              "      \n",
              "  <style>\n",
              "    .colab-df-container {\n",
              "      display:flex;\n",
              "      flex-wrap:wrap;\n",
              "      gap: 12px;\n",
              "    }\n",
              "\n",
              "    .colab-df-convert {\n",
              "      background-color: #E8F0FE;\n",
              "      border: none;\n",
              "      border-radius: 50%;\n",
              "      cursor: pointer;\n",
              "      display: none;\n",
              "      fill: #1967D2;\n",
              "      height: 32px;\n",
              "      padding: 0 0 0 0;\n",
              "      width: 32px;\n",
              "    }\n",
              "\n",
              "    .colab-df-convert:hover {\n",
              "      background-color: #E2EBFA;\n",
              "      box-shadow: 0px 1px 2px rgba(60, 64, 67, 0.3), 0px 1px 3px 1px rgba(60, 64, 67, 0.15);\n",
              "      fill: #174EA6;\n",
              "    }\n",
              "\n",
              "    [theme=dark] .colab-df-convert {\n",
              "      background-color: #3B4455;\n",
              "      fill: #D2E3FC;\n",
              "    }\n",
              "\n",
              "    [theme=dark] .colab-df-convert:hover {\n",
              "      background-color: #434B5C;\n",
              "      box-shadow: 0px 1px 3px 1px rgba(0, 0, 0, 0.15);\n",
              "      filter: drop-shadow(0px 1px 2px rgba(0, 0, 0, 0.3));\n",
              "      fill: #FFFFFF;\n",
              "    }\n",
              "  </style>\n",
              "\n",
              "      <script>\n",
              "        const buttonEl =\n",
              "          document.querySelector('#df-035591f5-60ca-456b-ae38-d7bff7a96af1 button.colab-df-convert');\n",
              "        buttonEl.style.display =\n",
              "          google.colab.kernel.accessAllowed ? 'block' : 'none';\n",
              "\n",
              "        async function convertToInteractive(key) {\n",
              "          const element = document.querySelector('#df-035591f5-60ca-456b-ae38-d7bff7a96af1');\n",
              "          const dataTable =\n",
              "            await google.colab.kernel.invokeFunction('convertToInteractive',\n",
              "                                                     [key], {});\n",
              "          if (!dataTable) return;\n",
              "\n",
              "          const docLinkHtml = 'Like what you see? Visit the ' +\n",
              "            '<a target=\"_blank\" href=https://colab.research.google.com/notebooks/data_table.ipynb>data table notebook</a>'\n",
              "            + ' to learn more about interactive tables.';\n",
              "          element.innerHTML = '';\n",
              "          dataTable['output_type'] = 'display_data';\n",
              "          await google.colab.output.renderOutput(dataTable, element);\n",
              "          const docLink = document.createElement('div');\n",
              "          docLink.innerHTML = docLinkHtml;\n",
              "          element.appendChild(docLink);\n",
              "        }\n",
              "      </script>\n",
              "    </div>\n",
              "  </div>\n",
              "  "
            ]
          },
          "metadata": {},
          "execution_count": 27
        }
      ]
    },
    {
      "cell_type": "markdown",
      "source": [
        "## **4. Data Vizualization, Storytelling & Experimenting with charts : Understand the relationships between variables**"
      ],
      "metadata": {
        "id": "bzg4JlTuyXaI"
      }
    },
    {
      "cell_type": "markdown",
      "source": [
        "**Chart - 1 Bar chart on Neighbourhood group count**"
      ],
      "metadata": {
        "id": "Y5DqmSbwyiR1"
      }
    },
    {
      "cell_type": "code",
      "metadata": {
        "colab": {
          "base_uri": "https://localhost:8080/",
          "height": 487
        },
        "id": "JMjD36EHnQ12",
        "outputId": "44c7a7b3-2986-4a63-dfd0-5ac27691ceb7"
      },
      "source": [
        "area = areas_reviews['neighbourhood_group']\n",
        "review = areas_reviews['number_of_reviews']\n",
        "\n",
        "fig = plt.figure(figsize = (10, 5))\n",
        "\n",
        "# creating the bar plot\n",
        "plt.bar(area, review, color ='maroon',width = 0.4)\n",
        "\n",
        "plt.xlabel(\"area\")\n",
        "plt.ylabel(\"review\")\n",
        "plt.title(\"Area vs Number of reviews\")\n",
        "plt.show()"
      ],
      "execution_count": null,
      "outputs": [
        {
          "output_type": "display_data",
          "data": {
            "text/plain": [
              "<Figure size 1000x500 with 1 Axes>"
            ],
            "image/png": "[encoded data removed]"
          },
          "metadata": {}
        }
      ]
    },
    {
      "cell_type": "markdown",
      "source": [
        "### **1. Why did you pick the specific chart?**"
      ],
      "metadata": {
        "id": "sDMjOcHiyvRP"
      }
    },
    {
      "cell_type": "markdown",
      "source": [
        "A bar chart makes comparisons between different variables easily and conveniently and helps in analyzing patterns over long periods numbers.\n",
        "\n",
        "\n"
      ],
      "metadata": {
        "id": "465Ry_ZKy18u"
      }
    },
    {
      "cell_type": "markdown",
      "source": [
        "### **2. What is/are the insight(s) found from the chart?**"
      ],
      "metadata": {
        "id": "5YBdOYDizXIU"
      }
    },
    {
      "cell_type": "markdown",
      "source": [
        "*   As we can see most number of listings are from Manhattan, it followed by Brooklyn.\n",
        "*   Staten Island has a very least number of bookings ie 373.\n",
        "\n"
      ],
      "metadata": {
        "id": "yomrLNzczcx1"
      }
    },
    {
      "cell_type": "markdown",
      "source": [
        "*   As we see the bar chart. We found that Manhattan is most booked neighbourhood_group out of 5 other and staten island has very least number of booking.\n",
        "*   Staten island need to be correlate with Manhattan so it helps to increase bookings.\n",
        "*   Make changes to Staten island by considering feedback given to Staten island.\n",
        "\n",
        "\n"
      ],
      "metadata": {
        "id": "mo1hYkvY0D7j"
      }
    },
    {
      "cell_type": "markdown",
      "source": [
        "### **3. Will the gained insights help creating a positive business impact?**\n",
        "Are there any insights that lead to negative growth? Justify with specific reason."
      ],
      "metadata": {
        "id": "-prNxyzTzvTY"
      }
    },
    {
      "cell_type": "code",
      "metadata": {
        "colab": {
          "base_uri": "https://localhost:8080/",
          "height": 206
        },
        "id": "o2jyH4gbl8XJ",
        "outputId": "6a2c3918-184a-4c87-d2f4-7c999d7b22e1"
      },
      "source": [
        "price_area = df.groupby(['price'])['number_of_reviews'].max().reset_index()\n",
        "price_area.head(5)"
      ],
      "execution_count": null,
      "outputs": [
        {
          "output_type": "execute_result",
          "data": {
            "text/plain": [
              "   price  number_of_reviews\n",
              "0      0                 95\n",
              "1     10                 93\n",
              "2     11                113\n",
              "3     12                  8\n",
              "4     13                  9"
            ],
            "text/html": [
              "\n",
              "  <div id=\"df-dc38b937-2ac7-4bb5-b85f-bc18e4b52e67\">\n",
              "    <div class=\"colab-df-container\">\n",
              "      <div>\n",
              "<style scoped>\n",
              "    .dataframe tbody tr th:only-of-type {\n",
              "        vertical-align: middle;\n",
              "    }\n",
              "\n",
              "    .dataframe tbody tr th {\n",
              "        vertical-align: top;\n",
              "    }\n",
              "\n",
              "    .dataframe thead th {\n",
              "        text-align: right;\n",
              "    }\n",
              "</style>\n",
              "<table border=\"1\" class=\"dataframe\">\n",
              "  <thead>\n",
              "    <tr style=\"text-align: right;\">\n",
              "      <th></th>\n",
              "      <th>price</th>\n",
              "      <th>number_of_reviews</th>\n",
              "    </tr>\n",
              "  </thead>\n",
              "  <tbody>\n",
              "    <tr>\n",
              "      <th>0</th>\n",
              "      <td>0</td>\n",
              "      <td>95</td>\n",
              "    </tr>\n",
              "    <tr>\n",
              "      <th>1</th>\n",
              "      <td>10</td>\n",
              "      <td>93</td>\n",
              "    </tr>\n",
              "    <tr>\n",
              "      <th>2</th>\n",
              "      <td>11</td>\n",
              "      <td>113</td>\n",
              "    </tr>\n",
              "    <tr>\n",
              "      <th>3</th>\n",
              "      <td>12</td>\n",
              "      <td>8</td>\n",
              "    </tr>\n",
              "    <tr>\n",
              "      <th>4</th>\n",
              "      <td>13</td>\n",
              "      <td>9</td>\n",
              "    </tr>\n",
              "  </tbody>\n",
              "</table>\n",
              "</div>\n",
              "      <button class=\"colab-df-convert\" onclick=\"convertToInteractive('df-dc38b937-2ac7-4bb5-b85f-bc18e4b52e67')\"\n",
              "              title=\"Convert this dataframe to an interactive table.\"\n",
              "              style=\"display:none;\">\n",
              "        \n",
              "  <svg xmlns=\"http://www.w3.org/2000/svg\" height=\"24px\"viewBox=\"0 0 24 24\"\n",
              "       width=\"24px\">\n",
              "    <path d=\"M0 0h24v24H0V0z\" fill=\"none\"/>\n",
              "    <path d=\"M18.56 5.44l.94 2.06.94-2.06 2.06-.94-2.06-.94-.94-2.06-.94 2.06-2.06.94zm-11 1L8.5 8.5l.94-2.06 2.06-.94-2.06-.94L8.5 2.5l-.94 2.06-2.06.94zm10 10l.94 2.06.94-2.06 2.06-.94-2.06-.94-.94-2.06-.94 2.06-2.06.94z\"/><path d=\"M17.41 7.96l-1.37-1.37c-.4-.4-.92-.59-1.43-.59-.52 0-1.04.2-1.43.59L10.3 9.45l-7.72 7.72c-.78.78-.78 2.05 0 2.83L4 21.41c.39.39.9.59 1.41.59.51 0 1.02-.2 1.41-.59l7.78-7.78 2.81-2.81c.8-.78.8-2.07 0-2.86zM5.41 20L4 18.59l7.72-7.72 1.47 1.35L5.41 20z\"/>\n",
              "  </svg>\n",
              "      </button>\n",
              "      \n",
              "  <style>\n",
              "    .colab-df-container {\n",
              "      display:flex;\n",
              "      flex-wrap:wrap;\n",
              "      gap: 12px;\n",
              "    }\n",
              "\n",
              "    .colab-df-convert {\n",
              "      background-color: #E8F0FE;\n",
              "      border: none;\n",
              "      border-radius: 50%;\n",
              "      cursor: pointer;\n",
              "      display: none;\n",
              "      fill: #1967D2;\n",
              "      height: 32px;\n",
              "      padding: 0 0 0 0;\n",
              "      width: 32px;\n",
              "    }\n",
              "\n",
              "    .colab-df-convert:hover {\n",
              "      background-color: #E2EBFA;\n",
              "      box-shadow: 0px 1px 2px rgba(60, 64, 67, 0.3), 0px 1px 3px 1px rgba(60, 64, 67, 0.15);\n",
              "      fill: #174EA6;\n",
              "    }\n",
              "\n",
              "    [theme=dark] .colab-df-convert {\n",
              "      background-color: #3B4455;\n",
              "      fill: #D2E3FC;\n",
              "    }\n",
              "\n",
              "    [theme=dark] .colab-df-convert:hover {\n",
              "      background-color: #434B5C;\n",
              "      box-shadow: 0px 1px 3px 1px rgba(0, 0, 0, 0.15);\n",
              "      filter: drop-shadow(0px 1px 2px rgba(0, 0, 0, 0.3));\n",
              "      fill: #FFFFFF;\n",
              "    }\n",
              "  </style>\n",
              "\n",
              "      <script>\n",
              "        const buttonEl =\n",
              "          document.querySelector('#df-dc38b937-2ac7-4bb5-b85f-bc18e4b52e67 button.colab-df-convert');\n",
              "        buttonEl.style.display =\n",
              "          google.colab.kernel.accessAllowed ? 'block' : 'none';\n",
              "\n",
              "        async function convertToInteractive(key) {\n",
              "          const element = document.querySelector('#df-dc38b937-2ac7-4bb5-b85f-bc18e4b52e67');\n",
              "          const dataTable =\n",
              "            await google.colab.kernel.invokeFunction('convertToInteractive',\n",
              "                                                     [key], {});\n",
              "          if (!dataTable) return;\n",
              "\n",
              "          const docLinkHtml = 'Like what you see? Visit the ' +\n",
              "            '<a target=\"_blank\" href=https://colab.research.google.com/notebooks/data_table.ipynb>data table notebook</a>'\n",
              "            + ' to learn more about interactive tables.';\n",
              "          element.innerHTML = '';\n",
              "          dataTable['output_type'] = 'display_data';\n",
              "          await google.colab.output.renderOutput(dataTable, element);\n",
              "          const docLink = document.createElement('div');\n",
              "          docLink.innerHTML = docLinkHtml;\n",
              "          element.appendChild(docLink);\n",
              "        }\n",
              "      </script>\n",
              "    </div>\n",
              "  </div>\n",
              "  "
            ]
          },
          "metadata": {},
          "execution_count": 29
        }
      ]
    },
    {
      "cell_type": "markdown",
      "source": [
        "# Chart - 2 visualization code"
      ],
      "metadata": {
        "id": "yHF3ET-U0hxK"
      }
    },
    {
      "cell_type": "code",
      "metadata": {
        "colab": {
          "base_uri": "https://localhost:8080/",
          "height": 487
        },
        "id": "OKXRknlvnB9n",
        "outputId": "2a7f1388-bef4-46f5-9e62-ad0d728ee53d"
      },
      "source": [
        "area = price_area['price']\n",
        "price = price_area['number_of_reviews']\n",
        "\n",
        "fig = plt.figure(figsize = (10, 5))\n",
        "\n",
        "plt.scatter(area, price)\n",
        "\n",
        "plt.xlabel(\"Price\")\n",
        "plt.ylabel(\"Number of Review\")\n",
        "plt.title(\"Price vs Number of Reviews\")\n",
        "plt.show()"
      ],
      "execution_count": null,
      "outputs": [
        {
          "output_type": "display_data",
          "data": {
            "text/plain": [
              "<Figure size 1000x500 with 1 Axes>"
            ],
            "image/png": "[encoded data removed]"
          },
          "metadata": {}
        }
      ]
    },
    {
      "cell_type": "markdown",
      "metadata": {
        "id": "VlL3x0_XpyK1"
      },
      "source": [
        "##From the above Analysis we can say that most people prefer to stay in place where price is less."
      ]
    },
    {
      "cell_type": "markdown",
      "source": [
        "Chart - 3 Pointplot on The price range of each neighbourhood group for every room type"
      ],
      "metadata": {
        "id": "sFvkO-Eh1K9O"
      }
    },
    {
      "cell_type": "code",
      "source": [
        "plt.figure(figsize = [8,6])\n",
        "\n",
        "ax = sns.pointplot(data = df, x = 'room_type', y = 'price', hue = 'neighbourhood_group')\n",
        "ax.set_yticklabels([0,400,50], minor = True)\n",
        "plt.title('The price range of each neighbourhood group for every room type', fontsize = 16)\n",
        "plt.xlabel('Room Type',fontsize = 14)\n",
        "plt.ylabel('Price', fontsize = 14)\n",
        "ax.set_ylim(0,400)\n",
        "ax.set_yticks(range(0,450, 50))\n",
        "plt.show()"
      ],
      "metadata": {
        "colab": {
          "base_uri": "https://localhost:8080/",
          "height": 607
        },
        "id": "TJ1hGn7Nt3mz",
        "outputId": "f624d856-6fef-4c91-d751-a8171aec1ae9"
      },
      "execution_count": null,
      "outputs": [
        {
          "output_type": "stream",
          "name": "stderr",
          "text": [
            "<ipython-input-31-4f11a87433ea>:4: UserWarning: FixedFormatter should only be used together with FixedLocator\n",
            "  ax.set_yticklabels([0,400,50], minor = True)\n"
          ]
        },
        {
          "output_type": "display_data",
          "data": {
            "text/plain": [
              "<Figure size 800x600 with 1 Axes>"
            ],
            "image/png": "[encoded data removed]"
          },
          "metadata": {}
        }
      ]
    },
    {
      "cell_type": "markdown",
      "source": [
        "### 1. Why did you pick the specific chart?"
      ],
      "metadata": {
        "id": "Hwq7f8N01bkk"
      }
    },
    {
      "cell_type": "markdown",
      "source": [
        "Point plots can be more useful than bar plots for focusing comparisons between different levels of one or more categorical variables."
      ],
      "metadata": {
        "id": "PzW3_IOV1kJO"
      }
    },
    {
      "cell_type": "markdown",
      "source": [
        "### 2. What is/are the insight(s) found from the chart"
      ],
      "metadata": {
        "id": "vA1pUWSz1_SU"
      }
    },
    {
      "cell_type": "markdown",
      "source": [
        "*   Brooklyn is most affordable for a shared room ie 50.\n",
        "\n",
        "*   Staten Island is most affordable for a private room ie 62.\n",
        "*   Bronx is most affordable for a Entire home/apt room ie 127.\n",
        "\n"
      ],
      "metadata": {
        "id": "Mp6fca5y2Oy2"
      }
    },
    {
      "cell_type": "markdown",
      "source": [
        "### 3. Will the gained insights help creating a positive business impact?\n",
        "Are there any insights that lead to negative growth? Justify with specific reason."
      ],
      "metadata": {
        "id": "Tk84Nxip3K74"
      }
    },
    {
      "cell_type": "markdown",
      "source": [
        "*   Manhattan has over price for home/apt room as compared to other neighbourhood group, its price can be reduced a bit.\n",
        "*   Manhattan has over price for Private room room as compared to other neighbourhood group, its price can be reduced a bit.\n",
        "\n"
      ],
      "metadata": {
        "id": "TXEL3DmR3TJi"
      }
    },
    {
      "cell_type": "markdown",
      "metadata": {
        "id": "UjIieUP4t7CC"
      },
      "source": [
        "##Which hosts are the busiest and why?"
      ]
    },
    {
      "cell_type": "code",
      "metadata": {
        "colab": {
          "base_uri": "https://localhost:8080/",
          "height": 363
        },
        "id": "E6GxhZqJs1Vp",
        "outputId": "83f1fd06-1165-4e0d-ab1a-b48c27c250c3"
      },
      "source": [
        "busiest_hosts = df.groupby(['host_name','host_id','room_type'])['number_of_reviews'].max().reset_index()\n",
        "busiest_hosts = busiest_hosts.sort_values(by='number_of_reviews', ascending=False).head(10)\n",
        "busiest_hosts"
      ],
      "execution_count": null,
      "outputs": [
        {
          "output_type": "execute_result",
          "data": {
            "text/plain": [
              "      host_name   host_id        room_type  number_of_reviews\n",
              "10279      Dona  47621202     Private room                629\n",
              "17708        Jj   4734398     Private room                607\n",
              "25566      Maya  37312959     Private room                543\n",
              "6235      Carol   2369681     Private room                540\n",
              "8947   Danielle  26432133     Private room                510\n",
              "3950        Asa  12949460  Entire home/apt                488\n",
              "37748     Wanda    792159     Private room                480\n",
              "22499     Linda   2680820     Private room                474\n",
              "8625       Dani     42273  Entire home/apt                467\n",
              "2942     Angela  23591164     Private room                466"
            ],
            "text/html": [
              "\n",
              "  <div id=\"df-51a5ac35-ff6b-4a42-a0a2-867c2213d7b9\">\n",
              "    <div class=\"colab-df-container\">\n",
              "      <div>\n",
              "<style scoped>\n",
              "    .dataframe tbody tr th:only-of-type {\n",
              "        vertical-align: middle;\n",
              "    }\n",
              "\n",
              "    .dataframe tbody tr th {\n",
              "        vertical-align: top;\n",
              "    }\n",
              "\n",
              "    .dataframe thead th {\n",
              "        text-align: right;\n",
              "    }\n",
              "</style>\n",
              "<table border=\"1\" class=\"dataframe\">\n",
              "  <thead>\n",
              "    <tr style=\"text-align: right;\">\n",
              "      <th></th>\n",
              "      <th>host_name</th>\n",
              "      <th>host_id</th>\n",
              "      <th>room_type</th>\n",
              "      <th>number_of_reviews</th>\n",
              "    </tr>\n",
              "  </thead>\n",
              "  <tbody>\n",
              "    <tr>\n",
              "      <th>10279</th>\n",
              "      <td>Dona</td>\n",
              "      <td>47621202</td>\n",
              "      <td>Private room</td>\n",
              "      <td>629</td>\n",
              "    </tr>\n",
              "    <tr>\n",
              "      <th>17708</th>\n",
              "      <td>Jj</td>\n",
              "      <td>4734398</td>\n",
              "      <td>Private room</td>\n",
              "      <td>607</td>\n",
              "    </tr>\n",
              "    <tr>\n",
              "      <th>25566</th>\n",
              "      <td>Maya</td>\n",
              "      <td>37312959</td>\n",
              "      <td>Private room</td>\n",
              "      <td>543</td>\n",
              "    </tr>\n",
              "    <tr>\n",
              "      <th>6235</th>\n",
              "      <td>Carol</td>\n",
              "      <td>2369681</td>\n",
              "      <td>Private room</td>\n",
              "      <td>540</td>\n",
              "    </tr>\n",
              "    <tr>\n",
              "      <th>8947</th>\n",
              "      <td>Danielle</td>\n",
              "      <td>26432133</td>\n",
              "      <td>Private room</td>\n",
              "      <td>510</td>\n",
              "    </tr>\n",
              "    <tr>\n",
              "      <th>3950</th>\n",
              "      <td>Asa</td>\n",
              "      <td>12949460</td>\n",
              "      <td>Entire home/apt</td>\n",
              "      <td>488</td>\n",
              "    </tr>\n",
              "    <tr>\n",
              "      <th>37748</th>\n",
              "      <td>Wanda</td>\n",
              "      <td>792159</td>\n",
              "      <td>Private room</td>\n",
              "      <td>480</td>\n",
              "    </tr>\n",
              "    <tr>\n",
              "      <th>22499</th>\n",
              "      <td>Linda</td>\n",
              "      <td>2680820</td>\n",
              "      <td>Private room</td>\n",
              "      <td>474</td>\n",
              "    </tr>\n",
              "    <tr>\n",
              "      <th>8625</th>\n",
              "      <td>Dani</td>\n",
              "      <td>42273</td>\n",
              "      <td>Entire home/apt</td>\n",
              "      <td>467</td>\n",
              "    </tr>\n",
              "    <tr>\n",
              "      <th>2942</th>\n",
              "      <td>Angela</td>\n",
              "      <td>23591164</td>\n",
              "      <td>Private room</td>\n",
              "      <td>466</td>\n",
              "    </tr>\n",
              "  </tbody>\n",
              "</table>\n",
              "</div>\n",
              "      <button class=\"colab-df-convert\" onclick=\"convertToInteractive('df-51a5ac35-ff6b-4a42-a0a2-867c2213d7b9')\"\n",
              "              title=\"Convert this dataframe to an interactive table.\"\n",
              "              style=\"display:none;\">\n",
              "        \n",
              "  <svg xmlns=\"http://www.w3.org/2000/svg\" height=\"24px\"viewBox=\"0 0 24 24\"\n",
              "       width=\"24px\">\n",
              "    <path d=\"M0 0h24v24H0V0z\" fill=\"none\"/>\n",
              "    <path d=\"M18.56 5.44l.94 2.06.94-2.06 2.06-.94-2.06-.94-.94-2.06-.94 2.06-2.06.94zm-11 1L8.5 8.5l.94-2.06 2.06-.94-2.06-.94L8.5 2.5l-.94 2.06-2.06.94zm10 10l.94 2.06.94-2.06 2.06-.94-2.06-.94-.94-2.06-.94 2.06-2.06.94z\"/><path d=\"M17.41 7.96l-1.37-1.37c-.4-.4-.92-.59-1.43-.59-.52 0-1.04.2-1.43.59L10.3 9.45l-7.72 7.72c-.78.78-.78 2.05 0 2.83L4 21.41c.39.39.9.59 1.41.59.51 0 1.02-.2 1.41-.59l7.78-7.78 2.81-2.81c.8-.78.8-2.07 0-2.86zM5.41 20L4 18.59l7.72-7.72 1.47 1.35L5.41 20z\"/>\n",
              "  </svg>\n",
              "      </button>\n",
              "      \n",
              "  <style>\n",
              "    .colab-df-container {\n",
              "      display:flex;\n",
              "      flex-wrap:wrap;\n",
              "      gap: 12px;\n",
              "    }\n",
              "\n",
              "    .colab-df-convert {\n",
              "      background-color: #E8F0FE;\n",
              "      border: none;\n",
              "      border-radius: 50%;\n",
              "      cursor: pointer;\n",
              "      display: none;\n",
              "      fill: #1967D2;\n",
              "      height: 32px;\n",
              "      padding: 0 0 0 0;\n",
              "      width: 32px;\n",
              "    }\n",
              "\n",
              "    .colab-df-convert:hover {\n",
              "      background-color: #E2EBFA;\n",
              "      box-shadow: 0px 1px 2px rgba(60, 64, 67, 0.3), 0px 1px 3px 1px rgba(60, 64, 67, 0.15);\n",
              "      fill: #174EA6;\n",
              "    }\n",
              "\n",
              "    [theme=dark] .colab-df-convert {\n",
              "      background-color: #3B4455;\n",
              "      fill: #D2E3FC;\n",
              "    }\n",
              "\n",
              "    [theme=dark] .colab-df-convert:hover {\n",
              "      background-color: #434B5C;\n",
              "      box-shadow: 0px 1px 3px 1px rgba(0, 0, 0, 0.15);\n",
              "      filter: drop-shadow(0px 1px 2px rgba(0, 0, 0, 0.3));\n",
              "      fill: #FFFFFF;\n",
              "    }\n",
              "  </style>\n",
              "\n",
              "      <script>\n",
              "        const buttonEl =\n",
              "          document.querySelector('#df-51a5ac35-ff6b-4a42-a0a2-867c2213d7b9 button.colab-df-convert');\n",
              "        buttonEl.style.display =\n",
              "          google.colab.kernel.accessAllowed ? 'block' : 'none';\n",
              "\n",
              "        async function convertToInteractive(key) {\n",
              "          const element = document.querySelector('#df-51a5ac35-ff6b-4a42-a0a2-867c2213d7b9');\n",
              "          const dataTable =\n",
              "            await google.colab.kernel.invokeFunction('convertToInteractive',\n",
              "                                                     [key], {});\n",
              "          if (!dataTable) return;\n",
              "\n",
              "          const docLinkHtml = 'Like what you see? Visit the ' +\n",
              "            '<a target=\"_blank\" href=https://colab.research.google.com/notebooks/data_table.ipynb>data table notebook</a>'\n",
              "            + ' to learn more about interactive tables.';\n",
              "          element.innerHTML = '';\n",
              "          dataTable['output_type'] = 'display_data';\n",
              "          await google.colab.output.renderOutput(dataTable, element);\n",
              "          const docLink = document.createElement('div');\n",
              "          docLink.innerHTML = docLinkHtml;\n",
              "          element.appendChild(docLink);\n",
              "        }\n",
              "      </script>\n",
              "    </div>\n",
              "  </div>\n",
              "  "
            ]
          },
          "metadata": {},
          "execution_count": 33
        }
      ]
    },
    {
      "cell_type": "code",
      "metadata": {
        "colab": {
          "base_uri": "https://localhost:8080/",
          "height": 487
        },
        "id": "J6fXh5tPug2A",
        "outputId": "50c6e39a-2d5c-4b2d-ea64-e526c1d048cb"
      },
      "source": [
        "#chart - 4 visualisation code\n",
        "\n",
        "name = busiest_hosts['host_name']\n",
        "reviews = busiest_hosts['number_of_reviews']\n",
        "\n",
        "fig = plt.figure(figsize = (10, 5))\n",
        "\n",
        "# creating the bar plot\n",
        "plt.bar(name, reviews, color ='maroon',\n",
        "        width = 0.4)\n",
        "\n",
        "plt.xlabel(\"Name of the Host\")\n",
        "plt.ylabel(\"Number of Reviews\")\n",
        "plt.title(\"Busiest Hosts\")\n",
        "plt.show()"
      ],
      "execution_count": null,
      "outputs": [
        {
          "output_type": "display_data",
          "data": {
            "text/plain": [
              "<Figure size 1000x500 with 1 Axes>"
            ],
            "image/png": "[encoded data removed]"
          },
          "metadata": {}
        }
      ]
    },
    {
      "cell_type": "markdown",
      "metadata": {
        "id": "TrPHDpX3vbBz"
      },
      "source": [
        "##Busiest hosts are:\n",
        "1. Dona\n",
        "2. Ji\n",
        "3. Maya\n",
        "4. Carol\n",
        "5. Danielle\n",
        "\n",
        "##Because these hosts listed room type as Entire home and Private room which is preferred by most number of people."
      ]
    },
    {
      "cell_type": "markdown",
      "source": [
        "### **Pie chart for per room type as per income share**"
      ],
      "metadata": {
        "id": "3M7qWogO4kz0"
      }
    },
    {
      "cell_type": "code",
      "source": [
        "#chart - 5 vsulisation code\n",
        "\n",
        "neighbourhood_group_pie=df[df['price']!=0]\n",
        "\n",
        "# Making a pie chart for neighbourhood_group as per income share\n",
        "plt.figure(figsize=(7,7))\n",
        "plt.pie(list(neighbourhood_group_pie['neighbourhood_group'].value_counts()),labels=list(neighbourhood_group_pie['neighbourhood_group'].value_counts().keys()),autopct='%0.1f%%')"
      ],
      "metadata": {
        "colab": {
          "base_uri": "https://localhost:8080/",
          "height": 848
        },
        "id": "OLiqK1BN4cAW",
        "outputId": "8206731d-ab48-4a11-e889-7e8d3dbdb3f2"
      },
      "execution_count": null,
      "outputs": [
        {
          "output_type": "execute_result",
          "data": {
            "text/plain": [
              "([<matplotlib.patches.Wedge at 0x7fa8383e8130>,\n",
              "  <matplotlib.patches.Wedge at 0x7fa8383e8040>,\n",
              "  <matplotlib.patches.Wedge at 0x7fa8383e8e20>,\n",
              "  <matplotlib.patches.Wedge at 0x7fa8383e94b0>,\n",
              "  <matplotlib.patches.Wedge at 0x7fa8383e9b40>],\n",
              " [Text(0.19562160572007667, 1.0824657903950126, 'Manhattan'),\n",
              "  Text(-0.654214809389462, -0.8843093255052272, 'Brooklyn'),\n",
              "  Text(0.9365237214988803, -0.5769950771626112, 'Queens'),\n",
              "  Text(1.0923515985539407, -0.12949125505859632, 'Bronx'),\n",
              "  Text(1.0996839707902564, -0.026365970245275577, 'Staten Island')],\n",
              " [Text(0.10670269402913271, 0.5904358856700067, '44.3%'),\n",
              "  Text(-0.35684444148516103, -0.48235054118466936, '41.1%'),\n",
              "  Text(0.510831120817571, -0.31472458754324245, '11.6%'),\n",
              "  Text(0.5958281446657858, -0.07063159366832525, '2.2%'),\n",
              "  Text(0.5998276204310489, -0.014381438315604858, '0.8%')])"
            ]
          },
          "metadata": {},
          "execution_count": 46
        },
        {
          "output_type": "display_data",
          "data": {
            "text/plain": [
              "<Figure size 700x700 with 1 Axes>"
            ],
            "image/png": "[encoded data removed]"
          },
          "metadata": {}
        }
      ]
    },
    {
      "cell_type": "markdown",
      "source": [
        "**1. Why did you pick the specific chart?**"
      ],
      "metadata": {
        "id": "upSOBvQY4sKg"
      }
    },
    {
      "cell_type": "markdown",
      "source": [
        "*   Pie charts are used to represent the\n",
        "*   proportional data or relative data in a single chart. The concept of pie slices is used to show the percentage of a particular data from the whole pie."
      ],
      "metadata": {
        "id": "o3Sz_y-G4yhH"
      }
    },
    {
      "cell_type": "markdown",
      "source": [
        "**2. What is/are the insight(s) found from the chart?**"
      ],
      "metadata": {
        "id": "Q2g6yA5C5IbI"
      }
    },
    {
      "cell_type": "markdown",
      "source": [
        "*   Entire home/apt generates maximum revenue, according to the rest."
      ],
      "metadata": {
        "id": "QCSnlrQ75NGM"
      }
    },
    {
      "cell_type": "markdown",
      "source": [
        "**3. Will the gained insights help creating a positive business impact?**\n",
        "**Are there any insights that lead to negative growth? Justify with specific reason.**"
      ],
      "metadata": {
        "id": "xHQcau0d5Yye"
      }
    },
    {
      "cell_type": "markdown",
      "source": [
        "*   Sharred room generates the least revenue, according to the rest. This could be reason as follows\n",
        "\n",
        "1.   Over price\n",
        "2.   Privacy issue\n",
        "3.   Smaller living space"
      ],
      "metadata": {
        "id": "54W4NWCm6FUx"
      }
    },
    {
      "cell_type": "markdown",
      "metadata": {
        "id": "bZ13Zhwdwz6X"
      },
      "source": [
        "## Is there any noticeable difference of traffic among different areas and what could be the reason for it?"
      ]
    },
    {
      "cell_type": "code",
      "metadata": {
        "id": "pg7TE4_ew-l7",
        "colab": {
          "base_uri": "https://localhost:8080/",
          "height": 519
        },
        "outputId": "3fa254a8-fd12-4036-c075-4f96f6139bac"
      },
      "source": [
        "traffic_areas = df.groupby(['neighbourhood_group','room_type'])['minimum_nights'].count().reset_index()\n",
        "traffic_areas = traffic_areas.sort_values(by='minimum_nights', ascending=False)\n",
        "traffic_areas"
      ],
      "execution_count": null,
      "outputs": [
        {
          "output_type": "execute_result",
          "data": {
            "text/plain": [
              "   neighbourhood_group        room_type  minimum_nights\n",
              "6            Manhattan  Entire home/apt           13199\n",
              "4             Brooklyn     Private room           10132\n",
              "3             Brooklyn  Entire home/apt            9559\n",
              "7            Manhattan     Private room            7982\n",
              "10              Queens     Private room            3372\n",
              "9               Queens  Entire home/apt            2096\n",
              "1                Bronx     Private room             652\n",
              "8            Manhattan      Shared room             480\n",
              "5             Brooklyn      Shared room             413\n",
              "0                Bronx  Entire home/apt             379\n",
              "11              Queens      Shared room             198\n",
              "13       Staten Island     Private room             188\n",
              "12       Staten Island  Entire home/apt             176\n",
              "2                Bronx      Shared room              60\n",
              "14       Staten Island      Shared room               9"
            ],
            "text/html": [
              "\n",
              "  <div id=\"df-d287a58a-1b64-4ceb-9130-41a7763f88f8\">\n",
              "    <div class=\"colab-df-container\">\n",
              "      <div>\n",
              "<style scoped>\n",
              "    .dataframe tbody tr th:only-of-type {\n",
              "        vertical-align: middle;\n",
              "    }\n",
              "\n",
              "    .dataframe tbody tr th {\n",
              "        vertical-align: top;\n",
              "    }\n",
              "\n",
              "    .dataframe thead th {\n",
              "        text-align: right;\n",
              "    }\n",
              "</style>\n",
              "<table border=\"1\" class=\"dataframe\">\n",
              "  <thead>\n",
              "    <tr style=\"text-align: right;\">\n",
              "      <th></th>\n",
              "      <th>neighbourhood_group</th>\n",
              "      <th>room_type</th>\n",
              "      <th>minimum_nights</th>\n",
              "    </tr>\n",
              "  </thead>\n",
              "  <tbody>\n",
              "    <tr>\n",
              "      <th>6</th>\n",
              "      <td>Manhattan</td>\n",
              "      <td>Entire home/apt</td>\n",
              "      <td>13199</td>\n",
              "    </tr>\n",
              "    <tr>\n",
              "      <th>4</th>\n",
              "      <td>Brooklyn</td>\n",
              "      <td>Private room</td>\n",
              "      <td>10132</td>\n",
              "    </tr>\n",
              "    <tr>\n",
              "      <th>3</th>\n",
              "      <td>Brooklyn</td>\n",
              "      <td>Entire home/apt</td>\n",
              "      <td>9559</td>\n",
              "    </tr>\n",
              "    <tr>\n",
              "      <th>7</th>\n",
              "      <td>Manhattan</td>\n",
              "      <td>Private room</td>\n",
              "      <td>7982</td>\n",
              "    </tr>\n",
              "    <tr>\n",
              "      <th>10</th>\n",
              "      <td>Queens</td>\n",
              "      <td>Private room</td>\n",
              "      <td>3372</td>\n",
              "    </tr>\n",
              "    <tr>\n",
              "      <th>9</th>\n",
              "      <td>Queens</td>\n",
              "      <td>Entire home/apt</td>\n",
              "      <td>2096</td>\n",
              "    </tr>\n",
              "    <tr>\n",
              "      <th>1</th>\n",
              "      <td>Bronx</td>\n",
              "      <td>Private room</td>\n",
              "      <td>652</td>\n",
              "    </tr>\n",
              "    <tr>\n",
              "      <th>8</th>\n",
              "      <td>Manhattan</td>\n",
              "      <td>Shared room</td>\n",
              "      <td>480</td>\n",
              "    </tr>\n",
              "    <tr>\n",
              "      <th>5</th>\n",
              "      <td>Brooklyn</td>\n",
              "      <td>Shared room</td>\n",
              "      <td>413</td>\n",
              "    </tr>\n",
              "    <tr>\n",
              "      <th>0</th>\n",
              "      <td>Bronx</td>\n",
              "      <td>Entire home/apt</td>\n",
              "      <td>379</td>\n",
              "    </tr>\n",
              "    <tr>\n",
              "      <th>11</th>\n",
              "      <td>Queens</td>\n",
              "      <td>Shared room</td>\n",
              "      <td>198</td>\n",
              "    </tr>\n",
              "    <tr>\n",
              "      <th>13</th>\n",
              "      <td>Staten Island</td>\n",
              "      <td>Private room</td>\n",
              "      <td>188</td>\n",
              "    </tr>\n",
              "    <tr>\n",
              "      <th>12</th>\n",
              "      <td>Staten Island</td>\n",
              "      <td>Entire home/apt</td>\n",
              "      <td>176</td>\n",
              "    </tr>\n",
              "    <tr>\n",
              "      <th>2</th>\n",
              "      <td>Bronx</td>\n",
              "      <td>Shared room</td>\n",
              "      <td>60</td>\n",
              "    </tr>\n",
              "    <tr>\n",
              "      <th>14</th>\n",
              "      <td>Staten Island</td>\n",
              "      <td>Shared room</td>\n",
              "      <td>9</td>\n",
              "    </tr>\n",
              "  </tbody>\n",
              "</table>\n",
              "</div>\n",
              "      <button class=\"colab-df-convert\" onclick=\"convertToInteractive('df-d287a58a-1b64-4ceb-9130-41a7763f88f8')\"\n",
              "              title=\"Convert this dataframe to an interactive table.\"\n",
              "              style=\"display:none;\">\n",
              "        \n",
              "  <svg xmlns=\"http://www.w3.org/2000/svg\" height=\"24px\"viewBox=\"0 0 24 24\"\n",
              "       width=\"24px\">\n",
              "    <path d=\"M0 0h24v24H0V0z\" fill=\"none\"/>\n",
              "    <path d=\"M18.56 5.44l.94 2.06.94-2.06 2.06-.94-2.06-.94-.94-2.06-.94 2.06-2.06.94zm-11 1L8.5 8.5l.94-2.06 2.06-.94-2.06-.94L8.5 2.5l-.94 2.06-2.06.94zm10 10l.94 2.06.94-2.06 2.06-.94-2.06-.94-.94-2.06-.94 2.06-2.06.94z\"/><path d=\"M17.41 7.96l-1.37-1.37c-.4-.4-.92-.59-1.43-.59-.52 0-1.04.2-1.43.59L10.3 9.45l-7.72 7.72c-.78.78-.78 2.05 0 2.83L4 21.41c.39.39.9.59 1.41.59.51 0 1.02-.2 1.41-.59l7.78-7.78 2.81-2.81c.8-.78.8-2.07 0-2.86zM5.41 20L4 18.59l7.72-7.72 1.47 1.35L5.41 20z\"/>\n",
              "  </svg>\n",
              "      </button>\n",
              "      \n",
              "  <style>\n",
              "    .colab-df-container {\n",
              "      display:flex;\n",
              "      flex-wrap:wrap;\n",
              "      gap: 12px;\n",
              "    }\n",
              "\n",
              "    .colab-df-convert {\n",
              "      background-color: #E8F0FE;\n",
              "      border: none;\n",
              "      border-radius: 50%;\n",
              "      cursor: pointer;\n",
              "      display: none;\n",
              "      fill: #1967D2;\n",
              "      height: 32px;\n",
              "      padding: 0 0 0 0;\n",
              "      width: 32px;\n",
              "    }\n",
              "\n",
              "    .colab-df-convert:hover {\n",
              "      background-color: #E2EBFA;\n",
              "      box-shadow: 0px 1px 2px rgba(60, 64, 67, 0.3), 0px 1px 3px 1px rgba(60, 64, 67, 0.15);\n",
              "      fill: #174EA6;\n",
              "    }\n",
              "\n",
              "    [theme=dark] .colab-df-convert {\n",
              "      background-color: #3B4455;\n",
              "      fill: #D2E3FC;\n",
              "    }\n",
              "\n",
              "    [theme=dark] .colab-df-convert:hover {\n",
              "      background-color: #434B5C;\n",
              "      box-shadow: 0px 1px 3px 1px rgba(0, 0, 0, 0.15);\n",
              "      filter: drop-shadow(0px 1px 2px rgba(0, 0, 0, 0.3));\n",
              "      fill: #FFFFFF;\n",
              "    }\n",
              "  </style>\n",
              "\n",
              "      <script>\n",
              "        const buttonEl =\n",
              "          document.querySelector('#df-d287a58a-1b64-4ceb-9130-41a7763f88f8 button.colab-df-convert');\n",
              "        buttonEl.style.display =\n",
              "          google.colab.kernel.accessAllowed ? 'block' : 'none';\n",
              "\n",
              "        async function convertToInteractive(key) {\n",
              "          const element = document.querySelector('#df-d287a58a-1b64-4ceb-9130-41a7763f88f8');\n",
              "          const dataTable =\n",
              "            await google.colab.kernel.invokeFunction('convertToInteractive',\n",
              "                                                     [key], {});\n",
              "          if (!dataTable) return;\n",
              "\n",
              "          const docLinkHtml = 'Like what you see? Visit the ' +\n",
              "            '<a target=\"_blank\" href=https://colab.research.google.com/notebooks/data_table.ipynb>data table notebook</a>'\n",
              "            + ' to learn more about interactive tables.';\n",
              "          element.innerHTML = '';\n",
              "          dataTable['output_type'] = 'display_data';\n",
              "          await google.colab.output.renderOutput(dataTable, element);\n",
              "          const docLink = document.createElement('div');\n",
              "          docLink.innerHTML = docLinkHtml;\n",
              "          element.appendChild(docLink);\n",
              "        }\n",
              "      </script>\n",
              "    </div>\n",
              "  </div>\n",
              "  "
            ]
          },
          "metadata": {},
          "execution_count": 47
        }
      ]
    },
    {
      "cell_type": "code",
      "metadata": {
        "id": "ui7qdpnKxThD",
        "colab": {
          "base_uri": "https://localhost:8080/",
          "height": 487
        },
        "outputId": "e9a712f9-8687-4e8b-f88b-30e9c1316a7c"
      },
      "source": [
        "# Chart - 6 visualization code\n",
        "\n",
        "room_type = traffic_areas['room_type']\n",
        "stayed = traffic_areas['minimum_nights']\n",
        "\n",
        "fig = plt.figure(figsize = (10, 5))\n",
        "\n",
        "# creating the bar plot\n",
        "plt.bar(room_type, stayed, color ='maroon',\n",
        "        width = 0.4)\n",
        "\n",
        "plt.xlabel(\"Room Type\")\n",
        "plt.ylabel(\"Minimum number of nights stayed\")\n",
        "plt.title(\"Traffic Areas\")\n",
        "plt.show()"
      ],
      "execution_count": null,
      "outputs": [
        {
          "output_type": "display_data",
          "data": {
            "text/plain": [
              "<Figure size 1000x500 with 1 Axes>"
            ],
            "image/png": "[encoded data removed]"
          },
          "metadata": {}
        }
      ]
    },
    {
      "cell_type": "code",
      "source": [
        "# Review of neighbourhood_group year wise\n",
        "review=df_copy.pivot_table(index=['neighbourhood_group','year'],aggfunc='size')\n",
        "review=pd.DataFrame(review)\n",
        "review.rename(columns={0:'reviews'},inplace=True)\n",
        "review.reset_index(inplace=True)\n",
        "bkln=review[review['neighbourhood_group'] == 'Brooklyn']\n",
        "mnhn=review[review['neighbourhood_group']=='Manhattan']\n",
        "qn=review[review['neighbourhood_group']=='Queens']\n",
        "qx=review[review['neighbourhood_group']=='Bronx']\n",
        "si=review[review['neighbourhood_group']=='Staten Island']\n",
        "review"
      ],
      "metadata": {
        "colab": {
          "base_uri": "https://localhost:8080/",
          "height": 1000
        },
        "id": "upy3BCeevGL8",
        "outputId": "48ebd40f-4292-4ae6-acf2-90ae44db1fda"
      },
      "execution_count": null,
      "outputs": [
        {
          "output_type": "execute_result",
          "data": {
            "text/plain": [
              "   neighbourhood_group  year  reviews\n",
              "0                Bronx  2014        2\n",
              "1                Bronx  2015        5\n",
              "2                Bronx  2016       14\n",
              "3                Bronx  2017       38\n",
              "4                Bronx  2018      119\n",
              "5                Bronx  2019      698\n",
              "6                Bronx   NaT      215\n",
              "7             Brooklyn  2011        5\n",
              "8             Brooklyn  2012       10\n",
              "9             Brooklyn  2013       22\n",
              "10            Brooklyn  2014       87\n",
              "11            Brooklyn  2015      621\n",
              "12            Brooklyn  2016     1141\n",
              "13            Brooklyn  2017     1420\n",
              "14            Brooklyn  2018     2675\n",
              "15            Brooklyn  2019    10466\n",
              "16            Brooklyn   NaT     3657\n",
              "17           Manhattan  2011        1\n",
              "18           Manhattan  2012       11\n",
              "19           Manhattan  2013       26\n",
              "20           Manhattan  2014       89\n",
              "21           Manhattan  2015      671\n",
              "22           Manhattan  2016     1398\n",
              "23           Manhattan  2017     1484\n",
              "24           Manhattan  2018     2630\n",
              "25           Manhattan  2019    10322\n",
              "26           Manhattan   NaT     5029\n",
              "27              Queens  2011        1\n",
              "28              Queens  2012        4\n",
              "29              Queens  2014       20\n",
              "30              Queens  2015       92\n",
              "31              Queens  2016      153\n",
              "32              Queens  2017      258\n",
              "33              Queens  2018      590\n",
              "34              Queens  2019     3456\n",
              "35              Queens   NaT     1092\n",
              "36       Staten Island  2014        1\n",
              "37       Staten Island  2015        4\n",
              "38       Staten Island  2016        1\n",
              "39       Staten Island  2017        5\n",
              "40       Staten Island  2018       36\n",
              "41       Staten Island  2019      267\n",
              "42       Staten Island   NaT       59"
            ],
            "text/html": [
              "\n",
              "  <div id=\"df-98464fce-d755-40d9-a070-e527c29e5dce\">\n",
              "    <div class=\"colab-df-container\">\n",
              "      <div>\n",
              "<style scoped>\n",
              "    .dataframe tbody tr th:only-of-type {\n",
              "        vertical-align: middle;\n",
              "    }\n",
              "\n",
              "    .dataframe tbody tr th {\n",
              "        vertical-align: top;\n",
              "    }\n",
              "\n",
              "    .dataframe thead th {\n",
              "        text-align: right;\n",
              "    }\n",
              "</style>\n",
              "<table border=\"1\" class=\"dataframe\">\n",
              "  <thead>\n",
              "    <tr style=\"text-align: right;\">\n",
              "      <th></th>\n",
              "      <th>neighbourhood_group</th>\n",
              "      <th>year</th>\n",
              "      <th>reviews</th>\n",
              "    </tr>\n",
              "  </thead>\n",
              "  <tbody>\n",
              "    <tr>\n",
              "      <th>0</th>\n",
              "      <td>Bronx</td>\n",
              "      <td>2014</td>\n",
              "      <td>2</td>\n",
              "    </tr>\n",
              "    <tr>\n",
              "      <th>1</th>\n",
              "      <td>Bronx</td>\n",
              "      <td>2015</td>\n",
              "      <td>5</td>\n",
              "    </tr>\n",
              "    <tr>\n",
              "      <th>2</th>\n",
              "      <td>Bronx</td>\n",
              "      <td>2016</td>\n",
              "      <td>14</td>\n",
              "    </tr>\n",
              "    <tr>\n",
              "      <th>3</th>\n",
              "      <td>Bronx</td>\n",
              "      <td>2017</td>\n",
              "      <td>38</td>\n",
              "    </tr>\n",
              "    <tr>\n",
              "      <th>4</th>\n",
              "      <td>Bronx</td>\n",
              "      <td>2018</td>\n",
              "      <td>119</td>\n",
              "    </tr>\n",
              "    <tr>\n",
              "      <th>5</th>\n",
              "      <td>Bronx</td>\n",
              "      <td>2019</td>\n",
              "      <td>698</td>\n",
              "    </tr>\n",
              "    <tr>\n",
              "      <th>6</th>\n",
              "      <td>Bronx</td>\n",
              "      <td>NaT</td>\n",
              "      <td>215</td>\n",
              "    </tr>\n",
              "    <tr>\n",
              "      <th>7</th>\n",
              "      <td>Brooklyn</td>\n",
              "      <td>2011</td>\n",
              "      <td>5</td>\n",
              "    </tr>\n",
              "    <tr>\n",
              "      <th>8</th>\n",
              "      <td>Brooklyn</td>\n",
              "      <td>2012</td>\n",
              "      <td>10</td>\n",
              "    </tr>\n",
              "    <tr>\n",
              "      <th>9</th>\n",
              "      <td>Brooklyn</td>\n",
              "      <td>2013</td>\n",
              "      <td>22</td>\n",
              "    </tr>\n",
              "    <tr>\n",
              "      <th>10</th>\n",
              "      <td>Brooklyn</td>\n",
              "      <td>2014</td>\n",
              "      <td>87</td>\n",
              "    </tr>\n",
              "    <tr>\n",
              "      <th>11</th>\n",
              "      <td>Brooklyn</td>\n",
              "      <td>2015</td>\n",
              "      <td>621</td>\n",
              "    </tr>\n",
              "    <tr>\n",
              "      <th>12</th>\n",
              "      <td>Brooklyn</td>\n",
              "      <td>2016</td>\n",
              "      <td>1141</td>\n",
              "    </tr>\n",
              "    <tr>\n",
              "      <th>13</th>\n",
              "      <td>Brooklyn</td>\n",
              "      <td>2017</td>\n",
              "      <td>1420</td>\n",
              "    </tr>\n",
              "    <tr>\n",
              "      <th>14</th>\n",
              "      <td>Brooklyn</td>\n",
              "      <td>2018</td>\n",
              "      <td>2675</td>\n",
              "    </tr>\n",
              "    <tr>\n",
              "      <th>15</th>\n",
              "      <td>Brooklyn</td>\n",
              "      <td>2019</td>\n",
              "      <td>10466</td>\n",
              "    </tr>\n",
              "    <tr>\n",
              "      <th>16</th>\n",
              "      <td>Brooklyn</td>\n",
              "      <td>NaT</td>\n",
              "      <td>3657</td>\n",
              "    </tr>\n",
              "    <tr>\n",
              "      <th>17</th>\n",
              "      <td>Manhattan</td>\n",
              "      <td>2011</td>\n",
              "      <td>1</td>\n",
              "    </tr>\n",
              "    <tr>\n",
              "      <th>18</th>\n",
              "      <td>Manhattan</td>\n",
              "      <td>2012</td>\n",
              "      <td>11</td>\n",
              "    </tr>\n",
              "    <tr>\n",
              "      <th>19</th>\n",
              "      <td>Manhattan</td>\n",
              "      <td>2013</td>\n",
              "      <td>26</td>\n",
              "    </tr>\n",
              "    <tr>\n",
              "      <th>20</th>\n",
              "      <td>Manhattan</td>\n",
              "      <td>2014</td>\n",
              "      <td>89</td>\n",
              "    </tr>\n",
              "    <tr>\n",
              "      <th>21</th>\n",
              "      <td>Manhattan</td>\n",
              "      <td>2015</td>\n",
              "      <td>671</td>\n",
              "    </tr>\n",
              "    <tr>\n",
              "      <th>22</th>\n",
              "      <td>Manhattan</td>\n",
              "      <td>2016</td>\n",
              "      <td>1398</td>\n",
              "    </tr>\n",
              "    <tr>\n",
              "      <th>23</th>\n",
              "      <td>Manhattan</td>\n",
              "      <td>2017</td>\n",
              "      <td>1484</td>\n",
              "    </tr>\n",
              "    <tr>\n",
              "      <th>24</th>\n",
              "      <td>Manhattan</td>\n",
              "      <td>2018</td>\n",
              "      <td>2630</td>\n",
              "    </tr>\n",
              "    <tr>\n",
              "      <th>25</th>\n",
              "      <td>Manhattan</td>\n",
              "      <td>2019</td>\n",
              "      <td>10322</td>\n",
              "    </tr>\n",
              "    <tr>\n",
              "      <th>26</th>\n",
              "      <td>Manhattan</td>\n",
              "      <td>NaT</td>\n",
              "      <td>5029</td>\n",
              "    </tr>\n",
              "    <tr>\n",
              "      <th>27</th>\n",
              "      <td>Queens</td>\n",
              "      <td>2011</td>\n",
              "      <td>1</td>\n",
              "    </tr>\n",
              "    <tr>\n",
              "      <th>28</th>\n",
              "      <td>Queens</td>\n",
              "      <td>2012</td>\n",
              "      <td>4</td>\n",
              "    </tr>\n",
              "    <tr>\n",
              "      <th>29</th>\n",
              "      <td>Queens</td>\n",
              "      <td>2014</td>\n",
              "      <td>20</td>\n",
              "    </tr>\n",
              "    <tr>\n",
              "      <th>30</th>\n",
              "      <td>Queens</td>\n",
              "      <td>2015</td>\n",
              "      <td>92</td>\n",
              "    </tr>\n",
              "    <tr>\n",
              "      <th>31</th>\n",
              "      <td>Queens</td>\n",
              "      <td>2016</td>\n",
              "      <td>153</td>\n",
              "    </tr>\n",
              "    <tr>\n",
              "      <th>32</th>\n",
              "      <td>Queens</td>\n",
              "      <td>2017</td>\n",
              "      <td>258</td>\n",
              "    </tr>\n",
              "    <tr>\n",
              "      <th>33</th>\n",
              "      <td>Queens</td>\n",
              "      <td>2018</td>\n",
              "      <td>590</td>\n",
              "    </tr>\n",
              "    <tr>\n",
              "      <th>34</th>\n",
              "      <td>Queens</td>\n",
              "      <td>2019</td>\n",
              "      <td>3456</td>\n",
              "    </tr>\n",
              "    <tr>\n",
              "      <th>35</th>\n",
              "      <td>Queens</td>\n",
              "      <td>NaT</td>\n",
              "      <td>1092</td>\n",
              "    </tr>\n",
              "    <tr>\n",
              "      <th>36</th>\n",
              "      <td>Staten Island</td>\n",
              "      <td>2014</td>\n",
              "      <td>1</td>\n",
              "    </tr>\n",
              "    <tr>\n",
              "      <th>37</th>\n",
              "      <td>Staten Island</td>\n",
              "      <td>2015</td>\n",
              "      <td>4</td>\n",
              "    </tr>\n",
              "    <tr>\n",
              "      <th>38</th>\n",
              "      <td>Staten Island</td>\n",
              "      <td>2016</td>\n",
              "      <td>1</td>\n",
              "    </tr>\n",
              "    <tr>\n",
              "      <th>39</th>\n",
              "      <td>Staten Island</td>\n",
              "      <td>2017</td>\n",
              "      <td>5</td>\n",
              "    </tr>\n",
              "    <tr>\n",
              "      <th>40</th>\n",
              "      <td>Staten Island</td>\n",
              "      <td>2018</td>\n",
              "      <td>36</td>\n",
              "    </tr>\n",
              "    <tr>\n",
              "      <th>41</th>\n",
              "      <td>Staten Island</td>\n",
              "      <td>2019</td>\n",
              "      <td>267</td>\n",
              "    </tr>\n",
              "    <tr>\n",
              "      <th>42</th>\n",
              "      <td>Staten Island</td>\n",
              "      <td>NaT</td>\n",
              "      <td>59</td>\n",
              "    </tr>\n",
              "  </tbody>\n",
              "</table>\n",
              "</div>\n",
              "      <button class=\"colab-df-convert\" onclick=\"convertToInteractive('df-98464fce-d755-40d9-a070-e527c29e5dce')\"\n",
              "              title=\"Convert this dataframe to an interactive table.\"\n",
              "              style=\"display:none;\">\n",
              "        \n",
              "  <svg xmlns=\"http://www.w3.org/2000/svg\" height=\"24px\"viewBox=\"0 0 24 24\"\n",
              "       width=\"24px\">\n",
              "    <path d=\"M0 0h24v24H0V0z\" fill=\"none\"/>\n",
              "    <path d=\"M18.56 5.44l.94 2.06.94-2.06 2.06-.94-2.06-.94-.94-2.06-.94 2.06-2.06.94zm-11 1L8.5 8.5l.94-2.06 2.06-.94-2.06-.94L8.5 2.5l-.94 2.06-2.06.94zm10 10l.94 2.06.94-2.06 2.06-.94-2.06-.94-.94-2.06-.94 2.06-2.06.94z\"/><path d=\"M17.41 7.96l-1.37-1.37c-.4-.4-.92-.59-1.43-.59-.52 0-1.04.2-1.43.59L10.3 9.45l-7.72 7.72c-.78.78-.78 2.05 0 2.83L4 21.41c.39.39.9.59 1.41.59.51 0 1.02-.2 1.41-.59l7.78-7.78 2.81-2.81c.8-.78.8-2.07 0-2.86zM5.41 20L4 18.59l7.72-7.72 1.47 1.35L5.41 20z\"/>\n",
              "  </svg>\n",
              "      </button>\n",
              "      \n",
              "  <style>\n",
              "    .colab-df-container {\n",
              "      display:flex;\n",
              "      flex-wrap:wrap;\n",
              "      gap: 12px;\n",
              "    }\n",
              "\n",
              "    .colab-df-convert {\n",
              "      background-color: #E8F0FE;\n",
              "      border: none;\n",
              "      border-radius: 50%;\n",
              "      cursor: pointer;\n",
              "      display: none;\n",
              "      fill: #1967D2;\n",
              "      height: 32px;\n",
              "      padding: 0 0 0 0;\n",
              "      width: 32px;\n",
              "    }\n",
              "\n",
              "    .colab-df-convert:hover {\n",
              "      background-color: #E2EBFA;\n",
              "      box-shadow: 0px 1px 2px rgba(60, 64, 67, 0.3), 0px 1px 3px 1px rgba(60, 64, 67, 0.15);\n",
              "      fill: #174EA6;\n",
              "    }\n",
              "\n",
              "    [theme=dark] .colab-df-convert {\n",
              "      background-color: #3B4455;\n",
              "      fill: #D2E3FC;\n",
              "    }\n",
              "\n",
              "    [theme=dark] .colab-df-convert:hover {\n",
              "      background-color: #434B5C;\n",
              "      box-shadow: 0px 1px 3px 1px rgba(0, 0, 0, 0.15);\n",
              "      filter: drop-shadow(0px 1px 2px rgba(0, 0, 0, 0.3));\n",
              "      fill: #FFFFFF;\n",
              "    }\n",
              "  </style>\n",
              "\n",
              "      <script>\n",
              "        const buttonEl =\n",
              "          document.querySelector('#df-98464fce-d755-40d9-a070-e527c29e5dce button.colab-df-convert');\n",
              "        buttonEl.style.display =\n",
              "          google.colab.kernel.accessAllowed ? 'block' : 'none';\n",
              "\n",
              "        async function convertToInteractive(key) {\n",
              "          const element = document.querySelector('#df-98464fce-d755-40d9-a070-e527c29e5dce');\n",
              "          const dataTable =\n",
              "            await google.colab.kernel.invokeFunction('convertToInteractive',\n",
              "                                                     [key], {});\n",
              "          if (!dataTable) return;\n",
              "\n",
              "          const docLinkHtml = 'Like what you see? Visit the ' +\n",
              "            '<a target=\"_blank\" href=https://colab.research.google.com/notebooks/data_table.ipynb>data table notebook</a>'\n",
              "            + ' to learn more about interactive tables.';\n",
              "          element.innerHTML = '';\n",
              "          dataTable['output_type'] = 'display_data';\n",
              "          await google.colab.output.renderOutput(dataTable, element);\n",
              "          const docLink = document.createElement('div');\n",
              "          docLink.innerHTML = docLinkHtml;\n",
              "          element.appendChild(docLink);\n",
              "        }\n",
              "      </script>\n",
              "    </div>\n",
              "  </div>\n",
              "  "
            ]
          },
          "metadata": {},
          "execution_count": 36
        }
      ]
    },
    {
      "cell_type": "code",
      "source": [
        "#chart -7 visualisation code\n",
        "\n",
        "area=df['room_type']\n",
        "price=df['number_of_reviews']\n",
        "plt.scatter(area,price) #creating bar plot\n",
        "\n",
        "plt.xlabel(\"room_type\")\n",
        "plt.ylabel(\"number_of_review\")\n",
        "plt.title(\"room_type vs Number of reviews\")\n",
        "plt.show()"
      ],
      "metadata": {
        "colab": {
          "base_uri": "https://localhost:8080/",
          "height": 472
        },
        "id": "sQ_UGpeaw2yE",
        "outputId": "92140cc4-f2f6-47e3-9995-d873bb2705eb"
      },
      "execution_count": null,
      "outputs": [
        {
          "output_type": "display_data",
          "data": {
            "text/plain": [
              "<Figure size 640x480 with 1 Axes>"
            ],
            "image/png": "[encoded data removed]"
          },
          "metadata": {}
        }
      ]
    },
    {
      "cell_type": "markdown",
      "metadata": {
        "id": "xttk6PCayEIw"
      },
      "source": [
        "###From the Above Analysis We can Stay that People are preferring Entire home/apt or Private room which are present in Manhattan, Brooklyn, Queens and people are preferring listings which are less in price."
      ]
    },
    {
      "cell_type": "markdown",
      "source": [
        "#5. **Solution to Business Objective**"
      ],
      "metadata": {
        "id": "PkkvOIQJ9orx"
      }
    },
    {
      "cell_type": "markdown",
      "source": [
        "**What do you suggest the client to achieve Business Objective ?** **Explain Briefly.**\n",
        "\n"
      ],
      "metadata": {
        "id": "K_S6NxnR_fi8"
      }
    },
    {
      "cell_type": "markdown",
      "source": [
        "\n",
        "\n",
        "*   As we seen in visulizaton Manhattan generate revenue over 42% out of 100, and staten island generate least revenue ie 0.8 % so client should give more focus on staten island.\n",
        "*   Staten island is idle in availability ie 225 days in year. The reason behind availability is as follow\n",
        "\n",
        "\n",
        "\n",
        "1.   Bad coustomer service\n",
        "2.   Over price\n",
        "3.   Mistake while charging\n",
        "4.   Conditation of room were very bad\n",
        "\n",
        "\n",
        "\n",
        "*   Guest preferred to live in Manhattan because,\n",
        "\n",
        "1.   Convenient for guest transportaation   \n",
        "2.   Affordable for every class like poor,rich\n",
        "3.   Best hospitality\n",
        "4.   less check in time. etc"
      ],
      "metadata": {
        "id": "5_qTuAZF-S--"
      }
    },
    {
      "cell_type": "markdown",
      "metadata": {
        "id": "SmsxAgwuRwQR"
      },
      "source": [
        "##Conclusion:\n",
        "###1. The people who prefer to stay in Entire home or  Apartment they are going to stay bit longer in that particular Neighbourhood only.\n",
        "###2. The people who prefer to stay in Private room they won't stay longer as compared to Home or Apartment.\n",
        "###3. Most people prefer to pay less price.\n",
        "###4. If there are more number of Reviews for particular Neighbourhood group that means that place is a tourist place.\n",
        "###5. If people are not staying more then one night means they are travellers."
      ]
    },
    {
      "cell_type": "markdown",
      "metadata": {
        "id": "O7dXWOonztnf"
      },
      "source": [
        "\n",
        "\n",
        "---\n",
        "\n",
        "\n",
        "#Thanks\n",
        "\n",
        "\n"
      ]
    }
  ]
}